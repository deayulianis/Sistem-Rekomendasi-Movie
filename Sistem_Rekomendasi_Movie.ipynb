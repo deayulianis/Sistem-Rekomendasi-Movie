{
  "nbformat": 4,
  "nbformat_minor": 0,
  "metadata": {
    "colab": {
      "provenance": []
    },
    "kernelspec": {
      "name": "python3",
      "display_name": "Python 3"
    },
    "language_info": {
      "name": "python"
    }
  },
  "cells": [
    {
      "cell_type": "markdown",
      "source": [
        " # Proyek Machine Learning - Dea Yuliani Sabrina"
      ],
      "metadata": {
        "id": "fxX0qV2XNg7e"
      }
    },
    {
      "cell_type": "markdown",
      "source": [
        "# Project Overview"
      ],
      "metadata": {
        "id": "aJCMSKwwNo8l"
      }
    },
    {
      "cell_type": "markdown",
      "source": [
        "Rekomendasi film sangat penting untuk membantu pengguna menemukan film yang relevan dengan preferensi mereka.\n",
        "Sistem rekomendasi ini dibangun dengan memanfaatkan dataset MovieLens, yang berisi rating dan metadata film.\n",
        "Masalah ini harus diselesaikan untuk:\n",
        "- Meningkatkan kepuasan pengguna (user satisfaction)\n",
        "- Mempermudah pengguna menemukan film baru yang sesuai\n",
        "\n",
        "**Referensi:** [Ricci, F., Rokach, L., & Shapira, B. (2015). Recommender Systems Handbook (2nd ed.). Springer.](https://doi.org/10.1007/978-1-4899-7637-6)"
      ],
      "metadata": {
        "id": "-cHgtLR5NxJ2"
      }
    },
    {
      "cell_type": "markdown",
      "source": [
        "# Business Understanding"
      ],
      "metadata": {
        "id": "SepB9APVObeP"
      }
    },
    {
      "cell_type": "markdown",
      "source": [
        "**Problem Statements**\n",
        "\n",
        "1)  Bagaimana cara merekomendasikan film yang sesuai dengan preferensi setiap pengguna secara otomatis?\n",
        "\n",
        "2) Bagaimana memahami preferensi pengguna hanya berdasarkan film yang telah mereka tonton dan beri rating?\n",
        "\n",
        "3) Bagaimana menyarankan film baru yang belum ditonton pengguna, namun relevan dengan minat mereka?\n",
        "\n",
        "**Goals:**\n",
        "\n",
        "1) Membangun sistem rekomendasi film yang mampu memberikan saran film secara otomatis dan personal untuk setiap pengguna.\n",
        "\n",
        "2) Menggunakan riwayat rating film dari pengguna untuk memahami dan membentuk profil preferensi genre mereka.\n",
        "\n",
        "3)  Menghasilkan rekomendasi film yang belum ditonton user namun memiliki kemiripan genre tinggi dengan film yang mereka sukai sebelumnya.\n",
        "\n",
        "\n",
        "**Solution Approach:**\n",
        "- Collaborative Filtering: menggunakan matrix factorization (SVD)\n",
        "- Content-Based Filtering: menggunakan cosine similarity antara metadata film (genre)"
      ],
      "metadata": {
        "id": "QwGntydbOiaL"
      }
    },
    {
      "cell_type": "markdown",
      "source": [
        "# Data Understanding"
      ],
      "metadata": {
        "id": "yIU7BUN5O-4v"
      }
    },
    {
      "cell_type": "markdown",
      "source": [
        "Dataset yang digunakan dalam proyek ini merupakan dataset tentang Movie. Dataset ini dapat diunduh di [Kaggle:MovieLens Latest Small](https://www.kaggle.com/datasets/grouplens/movielens-latest-small)"
      ],
      "metadata": {
        "id": "eXslre8fPDFT"
      }
    },
    {
      "cell_type": "code",
      "source": [
        "# Import module yang disediakan google colab untuk kebutuhan upload file\n",
        "from google.colab import files\n",
        "files.upload()"
      ],
      "metadata": {
        "colab": {
          "base_uri": "https://localhost:8080/",
          "height": 88
        },
        "id": "QL8BRc9XPihu",
        "outputId": "43477f1c-64b6-4371-e894-475f61e6c88e"
      },
      "execution_count": 1,
      "outputs": [
        {
          "output_type": "display_data",
          "data": {
            "text/plain": [
              "<IPython.core.display.HTML object>"
            ],
            "text/html": [
              "\n",
              "     <input type=\"file\" id=\"files-2f07bfaa-59f2-4e16-a5d4-9bedc125d7c2\" name=\"files[]\" multiple disabled\n",
              "        style=\"border:none\" />\n",
              "     <output id=\"result-2f07bfaa-59f2-4e16-a5d4-9bedc125d7c2\">\n",
              "      Upload widget is only available when the cell has been executed in the\n",
              "      current browser session. Please rerun this cell to enable.\n",
              "      </output>\n",
              "      <script>// Copyright 2017 Google LLC\n",
              "//\n",
              "// Licensed under the Apache License, Version 2.0 (the \"License\");\n",
              "// you may not use this file except in compliance with the License.\n",
              "// You may obtain a copy of the License at\n",
              "//\n",
              "//      http://www.apache.org/licenses/LICENSE-2.0\n",
              "//\n",
              "// Unless required by applicable law or agreed to in writing, software\n",
              "// distributed under the License is distributed on an \"AS IS\" BASIS,\n",
              "// WITHOUT WARRANTIES OR CONDITIONS OF ANY KIND, either express or implied.\n",
              "// See the License for the specific language governing permissions and\n",
              "// limitations under the License.\n",
              "\n",
              "/**\n",
              " * @fileoverview Helpers for google.colab Python module.\n",
              " */\n",
              "(function(scope) {\n",
              "function span(text, styleAttributes = {}) {\n",
              "  const element = document.createElement('span');\n",
              "  element.textContent = text;\n",
              "  for (const key of Object.keys(styleAttributes)) {\n",
              "    element.style[key] = styleAttributes[key];\n",
              "  }\n",
              "  return element;\n",
              "}\n",
              "\n",
              "// Max number of bytes which will be uploaded at a time.\n",
              "const MAX_PAYLOAD_SIZE = 100 * 1024;\n",
              "\n",
              "function _uploadFiles(inputId, outputId) {\n",
              "  const steps = uploadFilesStep(inputId, outputId);\n",
              "  const outputElement = document.getElementById(outputId);\n",
              "  // Cache steps on the outputElement to make it available for the next call\n",
              "  // to uploadFilesContinue from Python.\n",
              "  outputElement.steps = steps;\n",
              "\n",
              "  return _uploadFilesContinue(outputId);\n",
              "}\n",
              "\n",
              "// This is roughly an async generator (not supported in the browser yet),\n",
              "// where there are multiple asynchronous steps and the Python side is going\n",
              "// to poll for completion of each step.\n",
              "// This uses a Promise to block the python side on completion of each step,\n",
              "// then passes the result of the previous step as the input to the next step.\n",
              "function _uploadFilesContinue(outputId) {\n",
              "  const outputElement = document.getElementById(outputId);\n",
              "  const steps = outputElement.steps;\n",
              "\n",
              "  const next = steps.next(outputElement.lastPromiseValue);\n",
              "  return Promise.resolve(next.value.promise).then((value) => {\n",
              "    // Cache the last promise value to make it available to the next\n",
              "    // step of the generator.\n",
              "    outputElement.lastPromiseValue = value;\n",
              "    return next.value.response;\n",
              "  });\n",
              "}\n",
              "\n",
              "/**\n",
              " * Generator function which is called between each async step of the upload\n",
              " * process.\n",
              " * @param {string} inputId Element ID of the input file picker element.\n",
              " * @param {string} outputId Element ID of the output display.\n",
              " * @return {!Iterable<!Object>} Iterable of next steps.\n",
              " */\n",
              "function* uploadFilesStep(inputId, outputId) {\n",
              "  const inputElement = document.getElementById(inputId);\n",
              "  inputElement.disabled = false;\n",
              "\n",
              "  const outputElement = document.getElementById(outputId);\n",
              "  outputElement.innerHTML = '';\n",
              "\n",
              "  const pickedPromise = new Promise((resolve) => {\n",
              "    inputElement.addEventListener('change', (e) => {\n",
              "      resolve(e.target.files);\n",
              "    });\n",
              "  });\n",
              "\n",
              "  const cancel = document.createElement('button');\n",
              "  inputElement.parentElement.appendChild(cancel);\n",
              "  cancel.textContent = 'Cancel upload';\n",
              "  const cancelPromise = new Promise((resolve) => {\n",
              "    cancel.onclick = () => {\n",
              "      resolve(null);\n",
              "    };\n",
              "  });\n",
              "\n",
              "  // Wait for the user to pick the files.\n",
              "  const files = yield {\n",
              "    promise: Promise.race([pickedPromise, cancelPromise]),\n",
              "    response: {\n",
              "      action: 'starting',\n",
              "    }\n",
              "  };\n",
              "\n",
              "  cancel.remove();\n",
              "\n",
              "  // Disable the input element since further picks are not allowed.\n",
              "  inputElement.disabled = true;\n",
              "\n",
              "  if (!files) {\n",
              "    return {\n",
              "      response: {\n",
              "        action: 'complete',\n",
              "      }\n",
              "    };\n",
              "  }\n",
              "\n",
              "  for (const file of files) {\n",
              "    const li = document.createElement('li');\n",
              "    li.append(span(file.name, {fontWeight: 'bold'}));\n",
              "    li.append(span(\n",
              "        `(${file.type || 'n/a'}) - ${file.size} bytes, ` +\n",
              "        `last modified: ${\n",
              "            file.lastModifiedDate ? file.lastModifiedDate.toLocaleDateString() :\n",
              "                                    'n/a'} - `));\n",
              "    const percent = span('0% done');\n",
              "    li.appendChild(percent);\n",
              "\n",
              "    outputElement.appendChild(li);\n",
              "\n",
              "    const fileDataPromise = new Promise((resolve) => {\n",
              "      const reader = new FileReader();\n",
              "      reader.onload = (e) => {\n",
              "        resolve(e.target.result);\n",
              "      };\n",
              "      reader.readAsArrayBuffer(file);\n",
              "    });\n",
              "    // Wait for the data to be ready.\n",
              "    let fileData = yield {\n",
              "      promise: fileDataPromise,\n",
              "      response: {\n",
              "        action: 'continue',\n",
              "      }\n",
              "    };\n",
              "\n",
              "    // Use a chunked sending to avoid message size limits. See b/62115660.\n",
              "    let position = 0;\n",
              "    do {\n",
              "      const length = Math.min(fileData.byteLength - position, MAX_PAYLOAD_SIZE);\n",
              "      const chunk = new Uint8Array(fileData, position, length);\n",
              "      position += length;\n",
              "\n",
              "      const base64 = btoa(String.fromCharCode.apply(null, chunk));\n",
              "      yield {\n",
              "        response: {\n",
              "          action: 'append',\n",
              "          file: file.name,\n",
              "          data: base64,\n",
              "        },\n",
              "      };\n",
              "\n",
              "      let percentDone = fileData.byteLength === 0 ?\n",
              "          100 :\n",
              "          Math.round((position / fileData.byteLength) * 100);\n",
              "      percent.textContent = `${percentDone}% done`;\n",
              "\n",
              "    } while (position < fileData.byteLength);\n",
              "  }\n",
              "\n",
              "  // All done.\n",
              "  yield {\n",
              "    response: {\n",
              "      action: 'complete',\n",
              "    }\n",
              "  };\n",
              "}\n",
              "\n",
              "scope.google = scope.google || {};\n",
              "scope.google.colab = scope.google.colab || {};\n",
              "scope.google.colab._files = {\n",
              "  _uploadFiles,\n",
              "  _uploadFilesContinue,\n",
              "};\n",
              "})(self);\n",
              "</script> "
            ]
          },
          "metadata": {}
        },
        {
          "output_type": "stream",
          "name": "stdout",
          "text": [
            "Saving kaggle.json to kaggle (1).json\n"
          ]
        },
        {
          "output_type": "execute_result",
          "data": {
            "text/plain": [
              "{'kaggle (1).json': b'{\"username\":\"deayulianisabrina\",\"key\":\"7707d5bcc9b73e7c031ab0833157e0c9\"}'}"
            ]
          },
          "metadata": {},
          "execution_count": 1
        }
      ]
    },
    {
      "cell_type": "code",
      "source": [
        "!mkdir -p ~/.kaggle\n",
        "!cp kaggle.json ~/.kaggle/\n",
        "!chmod 600 ~/.kaggle/kaggle.json\n",
        "\n",
        "# Ganti 'username' dan 'dataset-name' sesuai dengan dataset yang kamu pakai\n",
        "!kaggle datasets download -d grouplens/movielens-latest-small\n",
        "!unzip movielens-latest-small.zip -d movielens-latest-small"
      ],
      "metadata": {
        "colab": {
          "base_uri": "https://localhost:8080/"
        },
        "id": "zlaNPFR1QAPc",
        "outputId": "83f34604-5178-4503-a484-f01554870e2c"
      },
      "execution_count": 2,
      "outputs": [
        {
          "output_type": "stream",
          "name": "stdout",
          "text": [
            "Dataset URL: https://www.kaggle.com/datasets/grouplens/movielens-latest-small\n",
            "License(s): other\n",
            "movielens-latest-small.zip: Skipping, found more recently modified local copy (use --force to force download)\n",
            "Archive:  movielens-latest-small.zip\n",
            "replace movielens-latest-small/README.md? [y]es, [n]o, [A]ll, [N]one, [r]ename: y\n",
            "  inflating: movielens-latest-small/README.md  \n",
            "replace movielens-latest-small/links.csv? [y]es, [n]o, [A]ll, [N]one, [r]ename: y\n",
            "  inflating: movielens-latest-small/links.csv  \n",
            "replace movielens-latest-small/movies.csv? [y]es, [n]o, [A]ll, [N]one, [r]ename: y\n",
            "  inflating: movielens-latest-small/movies.csv  \n",
            "replace movielens-latest-small/ratings.csv? [y]es, [n]o, [A]ll, [N]one, [r]ename: y\n",
            "  inflating: movielens-latest-small/ratings.csv  \n",
            "replace movielens-latest-small/tags.csv? [y]es, [n]o, [A]ll, [N]one, [r]ename: y\n",
            "  inflating: movielens-latest-small/tags.csv  \n"
          ]
        }
      ]
    },
    {
      "cell_type": "code",
      "source": [
        "import pandas as pd\n",
        "\n",
        "# Membaca dataset dari file CSV\n",
        "links = pd.read_csv('/content/movielens-latest-small/links.csv')\n",
        "movies = pd.read_csv('/content/movielens-latest-small/movies.csv')\n",
        "ratings = pd.read_csv('/content/movielens-latest-small/ratings.csv')\n",
        "tags = pd.read_csv('/content/movielens-latest-small/tags.csv')\n",
        "\n",
        "# Menampilkan jumlah data unik untuk analisis awal\n",
        "print('Jumlah total film di dataset movies: ', len(movies.movieId.unique()))\n",
        "print('Jumlah genre unik yang tersedia: ', len(set('|'.join(movies.genres).split('|'))))  # gabungan semua genre\n",
        "\n",
        "print('Jumlah user yang memberikan rating: ', len(ratings.userId.unique()))\n",
        "print('Jumlah film yang memiliki rating: ', len(ratings.movieId.unique()))\n",
        "print('Jumlah total rating: ', len(ratings))\n",
        "\n",
        "print('Jumlah user yang memberi tag: ', len(tags.userId.unique()))\n",
        "print('Jumlah film yang diberi tag: ', len(tags.movieId.unique()))\n",
        "print('Jumlah total tag: ', len(tags))\n",
        "\n",
        "print('Jumlah film yang memiliki data IMDb (di links): ', len(links.movieId.unique()))\n",
        "print('Jumlah data di links: ', len(links))"
      ],
      "metadata": {
        "colab": {
          "base_uri": "https://localhost:8080/"
        },
        "id": "gOTJirhJVme1",
        "outputId": "916ad341-0cb6-4953-a3d3-0dea14b32b5c"
      },
      "execution_count": 3,
      "outputs": [
        {
          "output_type": "stream",
          "name": "stdout",
          "text": [
            "Jumlah total film di dataset movies:  9742\n",
            "Jumlah genre unik yang tersedia:  20\n",
            "Jumlah user yang memberikan rating:  610\n",
            "Jumlah film yang memiliki rating:  9724\n",
            "Jumlah total rating:  100836\n",
            "Jumlah user yang memberi tag:  58\n",
            "Jumlah film yang diberi tag:  1572\n",
            "Jumlah total tag:  3683\n",
            "Jumlah film yang memiliki data IMDb (di links):  9742\n",
            "Jumlah data di links:  9742\n"
          ]
        }
      ]
    },
    {
      "cell_type": "markdown",
      "source": [
        "dari output didapat:\n",
        "1. Informasi dari Dataset movies.csv\n",
        "- Ada 9.742 film unik yang tercatat dalam dataset movies. Setiap baris merepresentasikan satu film berdasarkan movieId.\n",
        "- Total ada 20 genre berbeda (seperti Action, Drama, Comedy, dll). Genre di dataset biasanya disimpan dalam satu kolom dan dipisahkan dengan tanda |, misalnya Action|Adventure.\n",
        "\n",
        "2. Informasi dari Dataset ratings.csv\n",
        "- Sebanyak 610 pengguna unik telah memberikan rating.\n",
        "- Dari 9742 film di dataset, 9724 film sudah pernah dirating oleh pengguna, artinya hanya 18 film belum mendapat rating.\n",
        "- Terdapat 100.836 rating, yang merupakan jumlah semua rating dari seluruh user terhadap berbagai film.\n",
        "\n",
        "3. Informasi dari Dataset tags.csv\n",
        "- Hanya 58 user yang memberi tag (label/kata kunci deskriptif) terhadap film — lebih sedikit dibanding user yang memberi rating.\n",
        "- Sebanyak 1.572 film telah diberi tag oleh pengguna. Sisanya tidak memiliki informasi tag.\n",
        "- Terdapat 3.683 baris tag, artinya satu film bisa memiliki lebih dari satu tag, dan satu user bisa memberi tag ke beberapa film.\n",
        "\n",
        "4. Informasi dari Dataset links.csv\n",
        "- Semua 9742 film memiliki data IMDb (link ke ID IMDb) — tidak ada yang hilang. File ini biasanya digunakan untuk menghubungkan movieId ke ID eksternal seperti IMDb atau TMDb.\n",
        "\n"
      ],
      "metadata": {
        "id": "PLAv7YfAV9So"
      }
    },
    {
      "cell_type": "markdown",
      "source": [
        "# Univariate Exploratory Data Analysis"
      ],
      "metadata": {
        "id": "mPt0zUiWXxPY"
      }
    },
    {
      "cell_type": "markdown",
      "source": [
        "| Dataset   | Variabel | Fungsi Utama |\n",
        "|-------------|-----------|------------|\n",
        "| links     | movieId, imdbId   | Hubungkan movieId ke data eksternal (IMDb) |\n",
        "| movies       | movieId, title, genres    | Informasi konten film |\n",
        "| ratings     | userId, movieId, rating, timestamp    | Interaksi user (untuk collaborative filtering) |\n",
        "|tags| userId, movieId, tag, timestamp|Tag/kata kunci user (bisa untuk content-based)|\n"
      ],
      "metadata": {
        "id": "lnFmA_QnYVB9"
      }
    },
    {
      "cell_type": "markdown",
      "source": [
        "## ratings.csv"
      ],
      "metadata": {
        "id": "TYXXMplzZloO"
      }
    },
    {
      "cell_type": "code",
      "source": [
        "ratings.head()"
      ],
      "metadata": {
        "colab": {
          "base_uri": "https://localhost:8080/",
          "height": 206
        },
        "id": "w8xmRkITedPb",
        "outputId": "85783bba-40a5-492d-8a05-6b057b2050ff"
      },
      "execution_count": 4,
      "outputs": [
        {
          "output_type": "execute_result",
          "data": {
            "text/plain": [
              "   userId  movieId  rating  timestamp\n",
              "0       1        1     4.0  964982703\n",
              "1       1        3     4.0  964981247\n",
              "2       1        6     4.0  964982224\n",
              "3       1       47     5.0  964983815\n",
              "4       1       50     5.0  964982931"
            ],
            "text/html": [
              "\n",
              "  <div id=\"df-6a58ebb5-2506-485c-b232-80c1f3f5403c\" class=\"colab-df-container\">\n",
              "    <div>\n",
              "<style scoped>\n",
              "    .dataframe tbody tr th:only-of-type {\n",
              "        vertical-align: middle;\n",
              "    }\n",
              "\n",
              "    .dataframe tbody tr th {\n",
              "        vertical-align: top;\n",
              "    }\n",
              "\n",
              "    .dataframe thead th {\n",
              "        text-align: right;\n",
              "    }\n",
              "</style>\n",
              "<table border=\"1\" class=\"dataframe\">\n",
              "  <thead>\n",
              "    <tr style=\"text-align: right;\">\n",
              "      <th></th>\n",
              "      <th>userId</th>\n",
              "      <th>movieId</th>\n",
              "      <th>rating</th>\n",
              "      <th>timestamp</th>\n",
              "    </tr>\n",
              "  </thead>\n",
              "  <tbody>\n",
              "    <tr>\n",
              "      <th>0</th>\n",
              "      <td>1</td>\n",
              "      <td>1</td>\n",
              "      <td>4.0</td>\n",
              "      <td>964982703</td>\n",
              "    </tr>\n",
              "    <tr>\n",
              "      <th>1</th>\n",
              "      <td>1</td>\n",
              "      <td>3</td>\n",
              "      <td>4.0</td>\n",
              "      <td>964981247</td>\n",
              "    </tr>\n",
              "    <tr>\n",
              "      <th>2</th>\n",
              "      <td>1</td>\n",
              "      <td>6</td>\n",
              "      <td>4.0</td>\n",
              "      <td>964982224</td>\n",
              "    </tr>\n",
              "    <tr>\n",
              "      <th>3</th>\n",
              "      <td>1</td>\n",
              "      <td>47</td>\n",
              "      <td>5.0</td>\n",
              "      <td>964983815</td>\n",
              "    </tr>\n",
              "    <tr>\n",
              "      <th>4</th>\n",
              "      <td>1</td>\n",
              "      <td>50</td>\n",
              "      <td>5.0</td>\n",
              "      <td>964982931</td>\n",
              "    </tr>\n",
              "  </tbody>\n",
              "</table>\n",
              "</div>\n",
              "    <div class=\"colab-df-buttons\">\n",
              "\n",
              "  <div class=\"colab-df-container\">\n",
              "    <button class=\"colab-df-convert\" onclick=\"convertToInteractive('df-6a58ebb5-2506-485c-b232-80c1f3f5403c')\"\n",
              "            title=\"Convert this dataframe to an interactive table.\"\n",
              "            style=\"display:none;\">\n",
              "\n",
              "  <svg xmlns=\"http://www.w3.org/2000/svg\" height=\"24px\" viewBox=\"0 -960 960 960\">\n",
              "    <path d=\"M120-120v-720h720v720H120Zm60-500h600v-160H180v160Zm220 220h160v-160H400v160Zm0 220h160v-160H400v160ZM180-400h160v-160H180v160Zm440 0h160v-160H620v160ZM180-180h160v-160H180v160Zm440 0h160v-160H620v160Z\"/>\n",
              "  </svg>\n",
              "    </button>\n",
              "\n",
              "  <style>\n",
              "    .colab-df-container {\n",
              "      display:flex;\n",
              "      gap: 12px;\n",
              "    }\n",
              "\n",
              "    .colab-df-convert {\n",
              "      background-color: #E8F0FE;\n",
              "      border: none;\n",
              "      border-radius: 50%;\n",
              "      cursor: pointer;\n",
              "      display: none;\n",
              "      fill: #1967D2;\n",
              "      height: 32px;\n",
              "      padding: 0 0 0 0;\n",
              "      width: 32px;\n",
              "    }\n",
              "\n",
              "    .colab-df-convert:hover {\n",
              "      background-color: #E2EBFA;\n",
              "      box-shadow: 0px 1px 2px rgba(60, 64, 67, 0.3), 0px 1px 3px 1px rgba(60, 64, 67, 0.15);\n",
              "      fill: #174EA6;\n",
              "    }\n",
              "\n",
              "    .colab-df-buttons div {\n",
              "      margin-bottom: 4px;\n",
              "    }\n",
              "\n",
              "    [theme=dark] .colab-df-convert {\n",
              "      background-color: #3B4455;\n",
              "      fill: #D2E3FC;\n",
              "    }\n",
              "\n",
              "    [theme=dark] .colab-df-convert:hover {\n",
              "      background-color: #434B5C;\n",
              "      box-shadow: 0px 1px 3px 1px rgba(0, 0, 0, 0.15);\n",
              "      filter: drop-shadow(0px 1px 2px rgba(0, 0, 0, 0.3));\n",
              "      fill: #FFFFFF;\n",
              "    }\n",
              "  </style>\n",
              "\n",
              "    <script>\n",
              "      const buttonEl =\n",
              "        document.querySelector('#df-6a58ebb5-2506-485c-b232-80c1f3f5403c button.colab-df-convert');\n",
              "      buttonEl.style.display =\n",
              "        google.colab.kernel.accessAllowed ? 'block' : 'none';\n",
              "\n",
              "      async function convertToInteractive(key) {\n",
              "        const element = document.querySelector('#df-6a58ebb5-2506-485c-b232-80c1f3f5403c');\n",
              "        const dataTable =\n",
              "          await google.colab.kernel.invokeFunction('convertToInteractive',\n",
              "                                                    [key], {});\n",
              "        if (!dataTable) return;\n",
              "\n",
              "        const docLinkHtml = 'Like what you see? Visit the ' +\n",
              "          '<a target=\"_blank\" href=https://colab.research.google.com/notebooks/data_table.ipynb>data table notebook</a>'\n",
              "          + ' to learn more about interactive tables.';\n",
              "        element.innerHTML = '';\n",
              "        dataTable['output_type'] = 'display_data';\n",
              "        await google.colab.output.renderOutput(dataTable, element);\n",
              "        const docLink = document.createElement('div');\n",
              "        docLink.innerHTML = docLinkHtml;\n",
              "        element.appendChild(docLink);\n",
              "      }\n",
              "    </script>\n",
              "  </div>\n",
              "\n",
              "\n",
              "    <div id=\"df-50eabe7a-30bd-4b93-8d44-ddcd98143949\">\n",
              "      <button class=\"colab-df-quickchart\" onclick=\"quickchart('df-50eabe7a-30bd-4b93-8d44-ddcd98143949')\"\n",
              "                title=\"Suggest charts\"\n",
              "                style=\"display:none;\">\n",
              "\n",
              "<svg xmlns=\"http://www.w3.org/2000/svg\" height=\"24px\"viewBox=\"0 0 24 24\"\n",
              "     width=\"24px\">\n",
              "    <g>\n",
              "        <path d=\"M19 3H5c-1.1 0-2 .9-2 2v14c0 1.1.9 2 2 2h14c1.1 0 2-.9 2-2V5c0-1.1-.9-2-2-2zM9 17H7v-7h2v7zm4 0h-2V7h2v10zm4 0h-2v-4h2v4z\"/>\n",
              "    </g>\n",
              "</svg>\n",
              "      </button>\n",
              "\n",
              "<style>\n",
              "  .colab-df-quickchart {\n",
              "      --bg-color: #E8F0FE;\n",
              "      --fill-color: #1967D2;\n",
              "      --hover-bg-color: #E2EBFA;\n",
              "      --hover-fill-color: #174EA6;\n",
              "      --disabled-fill-color: #AAA;\n",
              "      --disabled-bg-color: #DDD;\n",
              "  }\n",
              "\n",
              "  [theme=dark] .colab-df-quickchart {\n",
              "      --bg-color: #3B4455;\n",
              "      --fill-color: #D2E3FC;\n",
              "      --hover-bg-color: #434B5C;\n",
              "      --hover-fill-color: #FFFFFF;\n",
              "      --disabled-bg-color: #3B4455;\n",
              "      --disabled-fill-color: #666;\n",
              "  }\n",
              "\n",
              "  .colab-df-quickchart {\n",
              "    background-color: var(--bg-color);\n",
              "    border: none;\n",
              "    border-radius: 50%;\n",
              "    cursor: pointer;\n",
              "    display: none;\n",
              "    fill: var(--fill-color);\n",
              "    height: 32px;\n",
              "    padding: 0;\n",
              "    width: 32px;\n",
              "  }\n",
              "\n",
              "  .colab-df-quickchart:hover {\n",
              "    background-color: var(--hover-bg-color);\n",
              "    box-shadow: 0 1px 2px rgba(60, 64, 67, 0.3), 0 1px 3px 1px rgba(60, 64, 67, 0.15);\n",
              "    fill: var(--button-hover-fill-color);\n",
              "  }\n",
              "\n",
              "  .colab-df-quickchart-complete:disabled,\n",
              "  .colab-df-quickchart-complete:disabled:hover {\n",
              "    background-color: var(--disabled-bg-color);\n",
              "    fill: var(--disabled-fill-color);\n",
              "    box-shadow: none;\n",
              "  }\n",
              "\n",
              "  .colab-df-spinner {\n",
              "    border: 2px solid var(--fill-color);\n",
              "    border-color: transparent;\n",
              "    border-bottom-color: var(--fill-color);\n",
              "    animation:\n",
              "      spin 1s steps(1) infinite;\n",
              "  }\n",
              "\n",
              "  @keyframes spin {\n",
              "    0% {\n",
              "      border-color: transparent;\n",
              "      border-bottom-color: var(--fill-color);\n",
              "      border-left-color: var(--fill-color);\n",
              "    }\n",
              "    20% {\n",
              "      border-color: transparent;\n",
              "      border-left-color: var(--fill-color);\n",
              "      border-top-color: var(--fill-color);\n",
              "    }\n",
              "    30% {\n",
              "      border-color: transparent;\n",
              "      border-left-color: var(--fill-color);\n",
              "      border-top-color: var(--fill-color);\n",
              "      border-right-color: var(--fill-color);\n",
              "    }\n",
              "    40% {\n",
              "      border-color: transparent;\n",
              "      border-right-color: var(--fill-color);\n",
              "      border-top-color: var(--fill-color);\n",
              "    }\n",
              "    60% {\n",
              "      border-color: transparent;\n",
              "      border-right-color: var(--fill-color);\n",
              "    }\n",
              "    80% {\n",
              "      border-color: transparent;\n",
              "      border-right-color: var(--fill-color);\n",
              "      border-bottom-color: var(--fill-color);\n",
              "    }\n",
              "    90% {\n",
              "      border-color: transparent;\n",
              "      border-bottom-color: var(--fill-color);\n",
              "    }\n",
              "  }\n",
              "</style>\n",
              "\n",
              "      <script>\n",
              "        async function quickchart(key) {\n",
              "          const quickchartButtonEl =\n",
              "            document.querySelector('#' + key + ' button');\n",
              "          quickchartButtonEl.disabled = true;  // To prevent multiple clicks.\n",
              "          quickchartButtonEl.classList.add('colab-df-spinner');\n",
              "          try {\n",
              "            const charts = await google.colab.kernel.invokeFunction(\n",
              "                'suggestCharts', [key], {});\n",
              "          } catch (error) {\n",
              "            console.error('Error during call to suggestCharts:', error);\n",
              "          }\n",
              "          quickchartButtonEl.classList.remove('colab-df-spinner');\n",
              "          quickchartButtonEl.classList.add('colab-df-quickchart-complete');\n",
              "        }\n",
              "        (() => {\n",
              "          let quickchartButtonEl =\n",
              "            document.querySelector('#df-50eabe7a-30bd-4b93-8d44-ddcd98143949 button');\n",
              "          quickchartButtonEl.style.display =\n",
              "            google.colab.kernel.accessAllowed ? 'block' : 'none';\n",
              "        })();\n",
              "      </script>\n",
              "    </div>\n",
              "\n",
              "    </div>\n",
              "  </div>\n"
            ],
            "application/vnd.google.colaboratory.intrinsic+json": {
              "type": "dataframe",
              "variable_name": "ratings"
            }
          },
          "metadata": {},
          "execution_count": 4
        }
      ]
    },
    {
      "cell_type": "markdown",
      "source": [
        "Melihat 5 data teratas dari dataset rating.csv"
      ],
      "metadata": {
        "id": "KFiS4vtAemHu"
      }
    },
    {
      "cell_type": "code",
      "source": [
        "ratings.info()"
      ],
      "metadata": {
        "colab": {
          "base_uri": "https://localhost:8080/"
        },
        "id": "aZL8Z9MuXyBu",
        "outputId": "3ce855ac-9ef2-472d-b57a-c2ee3fbf1a3d"
      },
      "execution_count": 5,
      "outputs": [
        {
          "output_type": "stream",
          "name": "stdout",
          "text": [
            "<class 'pandas.core.frame.DataFrame'>\n",
            "RangeIndex: 100836 entries, 0 to 100835\n",
            "Data columns (total 4 columns):\n",
            " #   Column     Non-Null Count   Dtype  \n",
            "---  ------     --------------   -----  \n",
            " 0   userId     100836 non-null  int64  \n",
            " 1   movieId    100836 non-null  int64  \n",
            " 2   rating     100836 non-null  float64\n",
            " 3   timestamp  100836 non-null  int64  \n",
            "dtypes: float64(1), int64(3)\n",
            "memory usage: 3.1 MB\n"
          ]
        }
      ]
    },
    {
      "cell_type": "markdown",
      "source": [
        "dari output didapat:\n",
        "- Dataset terdiri dari 100.836 baris dan 4 kolom.\n",
        "- Semua kolom tidak ada yang kosong (non-null).\n",
        "- Kolom userId, movieId, dan timestamp bertipe integer, sedangkan rating adalah float.\n",
        "- Kolom:\n",
        "1. **userId:** ID unik pengguna.\n",
        "\n",
        "2. **movieId:** ID unik film.\n",
        "\n",
        "3. **rating:** Nilai rating yang diberikan (0.5 – 5.0).\n",
        "\n",
        "4. **timestamp:** Waktu saat rating diberikan (dalam format UNIX time)."
      ],
      "metadata": {
        "id": "0CrJ4E0IdbFR"
      }
    },
    {
      "cell_type": "code",
      "source": [
        "# Jumlah user unik\n",
        "print(\"Jumlah user unik:\", ratings['userId'].nunique())"
      ],
      "metadata": {
        "colab": {
          "base_uri": "https://localhost:8080/"
        },
        "id": "vY5noJVbbNk1",
        "outputId": "037bc1b3-4c2d-409d-99a4-d6e04f93eede"
      },
      "execution_count": 6,
      "outputs": [
        {
          "output_type": "stream",
          "name": "stdout",
          "text": [
            "Jumlah user unik: 610\n"
          ]
        }
      ]
    },
    {
      "cell_type": "markdown",
      "source": [
        "Total ada 610 pengguna berbeda yang memberikan rating terhadap film."
      ],
      "metadata": {
        "id": "UpwmWDTefApi"
      }
    },
    {
      "cell_type": "code",
      "source": [
        "# Jumlah film unik yang diberi rating\n",
        "print(\"Jumlah film unik:\", ratings['movieId'].nunique())"
      ],
      "metadata": {
        "colab": {
          "base_uri": "https://localhost:8080/"
        },
        "id": "a_Hnrc9bb-t0",
        "outputId": "e817fb52-3b58-43cb-fe80-1fdcb2f1c2ea"
      },
      "execution_count": 7,
      "outputs": [
        {
          "output_type": "stream",
          "name": "stdout",
          "text": [
            "Jumlah film unik: 9724\n"
          ]
        }
      ]
    },
    {
      "cell_type": "markdown",
      "source": [
        "Ada 9.724 film berbeda yang menerima setidaknya satu rating.Ini menunjukkan sebaran data rating sudah cukup luas ke berbagai film."
      ],
      "metadata": {
        "id": "LUzZ85hPfCbK"
      }
    },
    {
      "cell_type": "code",
      "source": [
        "# Statistik deskriptif rating\n",
        "print(\"\\nStatistik rating:\")\n",
        "print(ratings['rating'].describe())"
      ],
      "metadata": {
        "colab": {
          "base_uri": "https://localhost:8080/"
        },
        "id": "P39Suy5ZcBRk",
        "outputId": "2b55839a-68d3-4f4a-d786-f72bbc303805"
      },
      "execution_count": 8,
      "outputs": [
        {
          "output_type": "stream",
          "name": "stdout",
          "text": [
            "\n",
            "Statistik rating:\n",
            "count    100836.000000\n",
            "mean          3.501557\n",
            "std           1.042529\n",
            "min           0.500000\n",
            "25%           3.000000\n",
            "50%           3.500000\n",
            "75%           4.000000\n",
            "max           5.000000\n",
            "Name: rating, dtype: float64\n"
          ]
        }
      ]
    },
    {
      "cell_type": "markdown",
      "source": [
        "dari output didapat:\n",
        "\n",
        "- Mayoritas rating ada di rentang 3.0–4.0.\n",
        "\n",
        "- Rating cenderung positif (rata-rata 3.5).\n",
        "\n",
        "- Tidak ada rating di bawah 0.5 atau di atas 5.0 → data valid."
      ],
      "metadata": {
        "id": "VMS0HCy1fO9w"
      }
    },
    {
      "cell_type": "code",
      "source": [
        "import matplotlib.pyplot as plt\n",
        "import seaborn as sns\n",
        "\n",
        "# Distribusi rating\n",
        "plt.figure(figsize=(8,5))\n",
        "sns.countplot(x='rating', data=ratings)\n",
        "plt.title(\"Distribusi Rating\")\n",
        "plt.xlabel(\"Rating\")\n",
        "plt.ylabel(\"Jumlah\")\n",
        "plt.show()"
      ],
      "metadata": {
        "colab": {
          "base_uri": "https://localhost:8080/",
          "height": 487
        },
        "id": "4g3SeHBlcDfn",
        "outputId": "b8773172-10b0-4c50-e3ff-ddfe21fca0d5"
      },
      "execution_count": 9,
      "outputs": [
        {
          "output_type": "display_data",
          "data": {
            "text/plain": [
              "<Figure size 800x500 with 1 Axes>"
            ],
            "image/png": "[encoded data removed]"
          },
          "metadata": {}
        }
      ]
    },
    {
      "cell_type": "markdown",
      "source": [
        "dari grafik didapat:\n",
        "\n",
        "- Rating 4.0 paling banyak diberikan.\n",
        "\n",
        "- Disusul 3.0, lalu 5.0 → pengguna lebih sering memberi nilai tinggi.\n",
        "\n",
        "- Rating 0.5 dan 1.0 relatif jarang → menunjukkan bias pengguna terhadap hal-hal yang disukai."
      ],
      "metadata": {
        "id": "CdJoZoOvfV-c"
      }
    },
    {
      "cell_type": "code",
      "source": [
        "# Rata-rata rating per film (top 10 film)\n",
        "mean_ratings = ratings.groupby('movieId')['rating'].mean().sort_values(ascending=False).head(10)\n",
        "print(\"\\n10 Film dengan rating rata-rata tertinggi:\")\n",
        "print(mean_ratings)"
      ],
      "metadata": {
        "colab": {
          "base_uri": "https://localhost:8080/"
        },
        "id": "z_M8U6ElcPPy",
        "outputId": "53cb8e81-7507-4230-aa50-5c2f97f5ff77"
      },
      "execution_count": 10,
      "outputs": [
        {
          "output_type": "stream",
          "name": "stdout",
          "text": [
            "\n",
            "10 Film dengan rating rata-rata tertinggi:\n",
            "movieId\n",
            "88448     5.0\n",
            "100556    5.0\n",
            "143031    5.0\n",
            "143511    5.0\n",
            "143559    5.0\n",
            "6201      5.0\n",
            "102217    5.0\n",
            "102084    5.0\n",
            "6192      5.0\n",
            "145994    5.0\n",
            "Name: rating, dtype: float64\n"
          ]
        }
      ]
    },
    {
      "cell_type": "markdown",
      "source": [
        "dari output didapat:\n",
        "\n",
        "- 10 film ini punya rata-rata rating 5.0 → artinya setiap rating yang masuk nilainya maksimal.\n",
        "\n",
        "- Kemungkinan film ini hanya punya 1 atau sedikit rating, jadi rata-ratanya belum mewakili banyak opini.\n",
        "\n",
        "- Perlu dicek jumlah ratingnya untuk memastikan mereka benar-benar populer atau hanya disukai oleh 1–2 pengguna saja."
      ],
      "metadata": {
        "id": "A5Cuqg-Yfn1M"
      }
    },
    {
      "cell_type": "code",
      "source": [
        "# Menghitung jumlah rating per film\n",
        "rating_counts = ratings.groupby('movieId')['rating'].count()\n",
        "\n",
        "# Mengurutkan dari yang paling banyak diberi rating\n",
        "top_rated_movies = rating_counts.sort_values(ascending=False).head(10)\n",
        "\n",
        "print(\"10 Film dengan jumlah rating terbanyak:\")\n",
        "print(top_rated_movies)"
      ],
      "metadata": {
        "colab": {
          "base_uri": "https://localhost:8080/"
        },
        "id": "bWk1x4KWgM1S",
        "outputId": "e96bc093-98a7-4267-cf0f-df52721759c5"
      },
      "execution_count": 11,
      "outputs": [
        {
          "output_type": "stream",
          "name": "stdout",
          "text": [
            "10 Film dengan jumlah rating terbanyak:\n",
            "movieId\n",
            "356     329\n",
            "318     317\n",
            "296     307\n",
            "593     279\n",
            "2571    278\n",
            "260     251\n",
            "480     238\n",
            "110     237\n",
            "589     224\n",
            "527     220\n",
            "Name: rating, dtype: int64\n"
          ]
        }
      ]
    },
    {
      "cell_type": "markdown",
      "source": [
        "dari output didapat:\n",
        "- Ini adalah film-film paling sering dirating oleh user, jadi bisa disebut film paling populer di dataset.\n",
        "\n",
        "- Misalnya, film dengan movieId = 356 memiliki 329 rating, berarti banyak user yang menonton dan menilainya."
      ],
      "metadata": {
        "id": "2otZLx9rgxeI"
      }
    },
    {
      "cell_type": "code",
      "source": [
        "# Hitung jumlah rating dan rata-rata rating per film\n",
        "rating_summary = ratings.groupby('movieId')['rating'].agg(['mean', 'count'])\n",
        "\n",
        "# Filter film yang memiliki minimal 100 rating\n",
        "popular_and_high_rated = rating_summary[rating_summary['count'] >= 100]\n",
        "\n",
        "# Urutkan berdasarkan rata-rata rating tertinggi\n",
        "best_movies = popular_and_high_rated.sort_values('mean', ascending=False).head(10)\n",
        "\n",
        "print(\"10 Film terbaik berdasarkan rata-rata rating (minimal 100 rating):\")\n",
        "print(best_movies)\n"
      ],
      "metadata": {
        "colab": {
          "base_uri": "https://localhost:8080/"
        },
        "id": "XgoccpJMgT5m",
        "outputId": "89bb98e8-75bd-4fe3-b749-370578f3a614"
      },
      "execution_count": 12,
      "outputs": [
        {
          "output_type": "stream",
          "name": "stdout",
          "text": [
            "10 Film terbaik berdasarkan rata-rata rating (minimal 100 rating):\n",
            "             mean  count\n",
            "movieId                 \n",
            "318      4.429022    317\n",
            "858      4.289062    192\n",
            "2959     4.272936    218\n",
            "1221     4.259690    129\n",
            "48516    4.252336    107\n",
            "1213     4.250000    126\n",
            "912      4.240000    100\n",
            "58559    4.238255    149\n",
            "50       4.237745    204\n",
            "1197     4.232394    142\n"
          ]
        }
      ]
    },
    {
      "cell_type": "markdown",
      "source": [
        "dari output didapat:\n",
        "\n",
        "- Ini adalah film dengan kualitas terbaik berdasarkan rating rata-rata, dengan syarat jumlah rating-nya ≥ 100.\n",
        "\n",
        "- Jadi, film seperti movieId = 318 tidak hanya populer (317 rating), tapi juga sangat disukai (rating rata-rata 4.42)."
      ],
      "metadata": {
        "id": "d-UYPVLFg1ol"
      }
    },
    {
      "cell_type": "markdown",
      "source": [
        "## movies.csv"
      ],
      "metadata": {
        "id": "4r1T0jh4hiyb"
      }
    },
    {
      "cell_type": "code",
      "source": [
        "movies.head()"
      ],
      "metadata": {
        "colab": {
          "base_uri": "https://localhost:8080/",
          "height": 206
        },
        "id": "7JX9zbBQhksT",
        "outputId": "91513d64-6c16-4fa1-cafe-64987947ba54"
      },
      "execution_count": 13,
      "outputs": [
        {
          "output_type": "execute_result",
          "data": {
            "text/plain": [
              "   movieId                               title  \\\n",
              "0        1                    Toy Story (1995)   \n",
              "1        2                      Jumanji (1995)   \n",
              "2        3             Grumpier Old Men (1995)   \n",
              "3        4            Waiting to Exhale (1995)   \n",
              "4        5  Father of the Bride Part II (1995)   \n",
              "\n",
              "                                        genres  \n",
              "0  Adventure|Animation|Children|Comedy|Fantasy  \n",
              "1                   Adventure|Children|Fantasy  \n",
              "2                               Comedy|Romance  \n",
              "3                         Comedy|Drama|Romance  \n",
              "4                                       Comedy  "
            ],
            "text/html": [
              "\n",
              "  <div id=\"df-47e73b1a-cffa-41ed-8938-80809df59c3d\" class=\"colab-df-container\">\n",
              "    <div>\n",
              "<style scoped>\n",
              "    .dataframe tbody tr th:only-of-type {\n",
              "        vertical-align: middle;\n",
              "    }\n",
              "\n",
              "    .dataframe tbody tr th {\n",
              "        vertical-align: top;\n",
              "    }\n",
              "\n",
              "    .dataframe thead th {\n",
              "        text-align: right;\n",
              "    }\n",
              "</style>\n",
              "<table border=\"1\" class=\"dataframe\">\n",
              "  <thead>\n",
              "    <tr style=\"text-align: right;\">\n",
              "      <th></th>\n",
              "      <th>movieId</th>\n",
              "      <th>title</th>\n",
              "      <th>genres</th>\n",
              "    </tr>\n",
              "  </thead>\n",
              "  <tbody>\n",
              "    <tr>\n",
              "      <th>0</th>\n",
              "      <td>1</td>\n",
              "      <td>Toy Story (1995)</td>\n",
              "      <td>Adventure|Animation|Children|Comedy|Fantasy</td>\n",
              "    </tr>\n",
              "    <tr>\n",
              "      <th>1</th>\n",
              "      <td>2</td>\n",
              "      <td>Jumanji (1995)</td>\n",
              "      <td>Adventure|Children|Fantasy</td>\n",
              "    </tr>\n",
              "    <tr>\n",
              "      <th>2</th>\n",
              "      <td>3</td>\n",
              "      <td>Grumpier Old Men (1995)</td>\n",
              "      <td>Comedy|Romance</td>\n",
              "    </tr>\n",
              "    <tr>\n",
              "      <th>3</th>\n",
              "      <td>4</td>\n",
              "      <td>Waiting to Exhale (1995)</td>\n",
              "      <td>Comedy|Drama|Romance</td>\n",
              "    </tr>\n",
              "    <tr>\n",
              "      <th>4</th>\n",
              "      <td>5</td>\n",
              "      <td>Father of the Bride Part II (1995)</td>\n",
              "      <td>Comedy</td>\n",
              "    </tr>\n",
              "  </tbody>\n",
              "</table>\n",
              "</div>\n",
              "    <div class=\"colab-df-buttons\">\n",
              "\n",
              "  <div class=\"colab-df-container\">\n",
              "    <button class=\"colab-df-convert\" onclick=\"convertToInteractive('df-47e73b1a-cffa-41ed-8938-80809df59c3d')\"\n",
              "            title=\"Convert this dataframe to an interactive table.\"\n",
              "            style=\"display:none;\">\n",
              "\n",
              "  <svg xmlns=\"http://www.w3.org/2000/svg\" height=\"24px\" viewBox=\"0 -960 960 960\">\n",
              "    <path d=\"M120-120v-720h720v720H120Zm60-500h600v-160H180v160Zm220 220h160v-160H400v160Zm0 220h160v-160H400v160ZM180-400h160v-160H180v160Zm440 0h160v-160H620v160ZM180-180h160v-160H180v160Zm440 0h160v-160H620v160Z\"/>\n",
              "  </svg>\n",
              "    </button>\n",
              "\n",
              "  <style>\n",
              "    .colab-df-container {\n",
              "      display:flex;\n",
              "      gap: 12px;\n",
              "    }\n",
              "\n",
              "    .colab-df-convert {\n",
              "      background-color: #E8F0FE;\n",
              "      border: none;\n",
              "      border-radius: 50%;\n",
              "      cursor: pointer;\n",
              "      display: none;\n",
              "      fill: #1967D2;\n",
              "      height: 32px;\n",
              "      padding: 0 0 0 0;\n",
              "      width: 32px;\n",
              "    }\n",
              "\n",
              "    .colab-df-convert:hover {\n",
              "      background-color: #E2EBFA;\n",
              "      box-shadow: 0px 1px 2px rgba(60, 64, 67, 0.3), 0px 1px 3px 1px rgba(60, 64, 67, 0.15);\n",
              "      fill: #174EA6;\n",
              "    }\n",
              "\n",
              "    .colab-df-buttons div {\n",
              "      margin-bottom: 4px;\n",
              "    }\n",
              "\n",
              "    [theme=dark] .colab-df-convert {\n",
              "      background-color: #3B4455;\n",
              "      fill: #D2E3FC;\n",
              "    }\n",
              "\n",
              "    [theme=dark] .colab-df-convert:hover {\n",
              "      background-color: #434B5C;\n",
              "      box-shadow: 0px 1px 3px 1px rgba(0, 0, 0, 0.15);\n",
              "      filter: drop-shadow(0px 1px 2px rgba(0, 0, 0, 0.3));\n",
              "      fill: #FFFFFF;\n",
              "    }\n",
              "  </style>\n",
              "\n",
              "    <script>\n",
              "      const buttonEl =\n",
              "        document.querySelector('#df-47e73b1a-cffa-41ed-8938-80809df59c3d button.colab-df-convert');\n",
              "      buttonEl.style.display =\n",
              "        google.colab.kernel.accessAllowed ? 'block' : 'none';\n",
              "\n",
              "      async function convertToInteractive(key) {\n",
              "        const element = document.querySelector('#df-47e73b1a-cffa-41ed-8938-80809df59c3d');\n",
              "        const dataTable =\n",
              "          await google.colab.kernel.invokeFunction('convertToInteractive',\n",
              "                                                    [key], {});\n",
              "        if (!dataTable) return;\n",
              "\n",
              "        const docLinkHtml = 'Like what you see? Visit the ' +\n",
              "          '<a target=\"_blank\" href=https://colab.research.google.com/notebooks/data_table.ipynb>data table notebook</a>'\n",
              "          + ' to learn more about interactive tables.';\n",
              "        element.innerHTML = '';\n",
              "        dataTable['output_type'] = 'display_data';\n",
              "        await google.colab.output.renderOutput(dataTable, element);\n",
              "        const docLink = document.createElement('div');\n",
              "        docLink.innerHTML = docLinkHtml;\n",
              "        element.appendChild(docLink);\n",
              "      }\n",
              "    </script>\n",
              "  </div>\n",
              "\n",
              "\n",
              "    <div id=\"df-7014900c-aeeb-4930-9e6c-e57633fac3d8\">\n",
              "      <button class=\"colab-df-quickchart\" onclick=\"quickchart('df-7014900c-aeeb-4930-9e6c-e57633fac3d8')\"\n",
              "                title=\"Suggest charts\"\n",
              "                style=\"display:none;\">\n",
              "\n",
              "<svg xmlns=\"http://www.w3.org/2000/svg\" height=\"24px\"viewBox=\"0 0 24 24\"\n",
              "     width=\"24px\">\n",
              "    <g>\n",
              "        <path d=\"M19 3H5c-1.1 0-2 .9-2 2v14c0 1.1.9 2 2 2h14c1.1 0 2-.9 2-2V5c0-1.1-.9-2-2-2zM9 17H7v-7h2v7zm4 0h-2V7h2v10zm4 0h-2v-4h2v4z\"/>\n",
              "    </g>\n",
              "</svg>\n",
              "      </button>\n",
              "\n",
              "<style>\n",
              "  .colab-df-quickchart {\n",
              "      --bg-color: #E8F0FE;\n",
              "      --fill-color: #1967D2;\n",
              "      --hover-bg-color: #E2EBFA;\n",
              "      --hover-fill-color: #174EA6;\n",
              "      --disabled-fill-color: #AAA;\n",
              "      --disabled-bg-color: #DDD;\n",
              "  }\n",
              "\n",
              "  [theme=dark] .colab-df-quickchart {\n",
              "      --bg-color: #3B4455;\n",
              "      --fill-color: #D2E3FC;\n",
              "      --hover-bg-color: #434B5C;\n",
              "      --hover-fill-color: #FFFFFF;\n",
              "      --disabled-bg-color: #3B4455;\n",
              "      --disabled-fill-color: #666;\n",
              "  }\n",
              "\n",
              "  .colab-df-quickchart {\n",
              "    background-color: var(--bg-color);\n",
              "    border: none;\n",
              "    border-radius: 50%;\n",
              "    cursor: pointer;\n",
              "    display: none;\n",
              "    fill: var(--fill-color);\n",
              "    height: 32px;\n",
              "    padding: 0;\n",
              "    width: 32px;\n",
              "  }\n",
              "\n",
              "  .colab-df-quickchart:hover {\n",
              "    background-color: var(--hover-bg-color);\n",
              "    box-shadow: 0 1px 2px rgba(60, 64, 67, 0.3), 0 1px 3px 1px rgba(60, 64, 67, 0.15);\n",
              "    fill: var(--button-hover-fill-color);\n",
              "  }\n",
              "\n",
              "  .colab-df-quickchart-complete:disabled,\n",
              "  .colab-df-quickchart-complete:disabled:hover {\n",
              "    background-color: var(--disabled-bg-color);\n",
              "    fill: var(--disabled-fill-color);\n",
              "    box-shadow: none;\n",
              "  }\n",
              "\n",
              "  .colab-df-spinner {\n",
              "    border: 2px solid var(--fill-color);\n",
              "    border-color: transparent;\n",
              "    border-bottom-color: var(--fill-color);\n",
              "    animation:\n",
              "      spin 1s steps(1) infinite;\n",
              "  }\n",
              "\n",
              "  @keyframes spin {\n",
              "    0% {\n",
              "      border-color: transparent;\n",
              "      border-bottom-color: var(--fill-color);\n",
              "      border-left-color: var(--fill-color);\n",
              "    }\n",
              "    20% {\n",
              "      border-color: transparent;\n",
              "      border-left-color: var(--fill-color);\n",
              "      border-top-color: var(--fill-color);\n",
              "    }\n",
              "    30% {\n",
              "      border-color: transparent;\n",
              "      border-left-color: var(--fill-color);\n",
              "      border-top-color: var(--fill-color);\n",
              "      border-right-color: var(--fill-color);\n",
              "    }\n",
              "    40% {\n",
              "      border-color: transparent;\n",
              "      border-right-color: var(--fill-color);\n",
              "      border-top-color: var(--fill-color);\n",
              "    }\n",
              "    60% {\n",
              "      border-color: transparent;\n",
              "      border-right-color: var(--fill-color);\n",
              "    }\n",
              "    80% {\n",
              "      border-color: transparent;\n",
              "      border-right-color: var(--fill-color);\n",
              "      border-bottom-color: var(--fill-color);\n",
              "    }\n",
              "    90% {\n",
              "      border-color: transparent;\n",
              "      border-bottom-color: var(--fill-color);\n",
              "    }\n",
              "  }\n",
              "</style>\n",
              "\n",
              "      <script>\n",
              "        async function quickchart(key) {\n",
              "          const quickchartButtonEl =\n",
              "            document.querySelector('#' + key + ' button');\n",
              "          quickchartButtonEl.disabled = true;  // To prevent multiple clicks.\n",
              "          quickchartButtonEl.classList.add('colab-df-spinner');\n",
              "          try {\n",
              "            const charts = await google.colab.kernel.invokeFunction(\n",
              "                'suggestCharts', [key], {});\n",
              "          } catch (error) {\n",
              "            console.error('Error during call to suggestCharts:', error);\n",
              "          }\n",
              "          quickchartButtonEl.classList.remove('colab-df-spinner');\n",
              "          quickchartButtonEl.classList.add('colab-df-quickchart-complete');\n",
              "        }\n",
              "        (() => {\n",
              "          let quickchartButtonEl =\n",
              "            document.querySelector('#df-7014900c-aeeb-4930-9e6c-e57633fac3d8 button');\n",
              "          quickchartButtonEl.style.display =\n",
              "            google.colab.kernel.accessAllowed ? 'block' : 'none';\n",
              "        })();\n",
              "      </script>\n",
              "    </div>\n",
              "\n",
              "    </div>\n",
              "  </div>\n"
            ],
            "application/vnd.google.colaboratory.intrinsic+json": {
              "type": "dataframe",
              "variable_name": "movies",
              "summary": "{\n  \"name\": \"movies\",\n  \"rows\": 9742,\n  \"fields\": [\n    {\n      \"column\": \"movieId\",\n      \"properties\": {\n        \"dtype\": \"number\",\n        \"std\": 52160,\n        \"min\": 1,\n        \"max\": 193609,\n        \"num_unique_values\": 9742,\n        \"samples\": [\n          45635,\n          1373,\n          7325\n        ],\n        \"semantic_type\": \"\",\n        \"description\": \"\"\n      }\n    },\n    {\n      \"column\": \"title\",\n      \"properties\": {\n        \"dtype\": \"string\",\n        \"num_unique_values\": 9737,\n        \"samples\": [\n          \"Teenage Mutant Ninja Turtles (2014)\",\n          \"America's Sweethearts (2001)\",\n          \"Cast Away (2000)\"\n        ],\n        \"semantic_type\": \"\",\n        \"description\": \"\"\n      }\n    },\n    {\n      \"column\": \"genres\",\n      \"properties\": {\n        \"dtype\": \"category\",\n        \"num_unique_values\": 951,\n        \"samples\": [\n          \"Crime|Mystery|Romance|Thriller\",\n          \"Action|Adventure|Comedy|Western\",\n          \"Crime|Drama|Musical\"\n        ],\n        \"semantic_type\": \"\",\n        \"description\": \"\"\n      }\n    }\n  ]\n}"
            }
          },
          "metadata": {},
          "execution_count": 13
        }
      ]
    },
    {
      "cell_type": "markdown",
      "source": [
        "Melihat 5 data teratas dari dataset movies.csv"
      ],
      "metadata": {
        "id": "a-m8LmvWhnto"
      }
    },
    {
      "cell_type": "code",
      "source": [
        "movies.info()"
      ],
      "metadata": {
        "colab": {
          "base_uri": "https://localhost:8080/"
        },
        "id": "j3Xi6ybyhuFg",
        "outputId": "2d1f29c1-2ab8-4b18-8ef3-5f892ba4510b"
      },
      "execution_count": 14,
      "outputs": [
        {
          "output_type": "stream",
          "name": "stdout",
          "text": [
            "<class 'pandas.core.frame.DataFrame'>\n",
            "RangeIndex: 9742 entries, 0 to 9741\n",
            "Data columns (total 3 columns):\n",
            " #   Column   Non-Null Count  Dtype \n",
            "---  ------   --------------  ----- \n",
            " 0   movieId  9742 non-null   int64 \n",
            " 1   title    9742 non-null   object\n",
            " 2   genres   9742 non-null   object\n",
            "dtypes: int64(1), object(2)\n",
            "memory usage: 228.5+ KB\n"
          ]
        }
      ]
    },
    {
      "cell_type": "markdown",
      "source": [
        "dari output didapat:\n",
        "- Dataset terdiri dari 9742 baris dan 3 kolom.\n",
        "- Semua kolom tidak ada yang kosong (non-null).\n",
        "- Kolom movieId bertipe integer, sedangkan title dan genres adalah string (object).\n",
        "- Kolom:\n",
        "1. **movieId:** ID unik film.\n",
        "\n",
        "2. **title:** Judul film.\n",
        "\n",
        "3. **genres:** Genre film."
      ],
      "metadata": {
        "id": "ejtCf8Pkh39X"
      }
    },
    {
      "cell_type": "code",
      "source": [
        "# Pisahkan semua genre\n",
        "from collections import Counter\n",
        "\n",
        "all_genres = movies['genres'].str.split('|').sum()\n",
        "genre_counts = Counter(all_genres)\n",
        "\n",
        "# Tampilkan 10 genre terbanyak\n",
        "print(\"10 Genre paling banyak muncul:\")\n",
        "print(genre_counts.most_common(10))"
      ],
      "metadata": {
        "colab": {
          "base_uri": "https://localhost:8080/"
        },
        "id": "jAXbxnXaiTPz",
        "outputId": "f1cf4237-713e-4f8d-aaa6-b67586d592cc"
      },
      "execution_count": 15,
      "outputs": [
        {
          "output_type": "stream",
          "name": "stdout",
          "text": [
            "10 Genre paling banyak muncul:\n",
            "[('Drama', 4361), ('Comedy', 3756), ('Thriller', 1894), ('Action', 1828), ('Romance', 1596), ('Adventure', 1263), ('Crime', 1199), ('Sci-Fi', 980), ('Horror', 978), ('Fantasy', 779)]\n"
          ]
        }
      ]
    },
    {
      "cell_type": "markdown",
      "source": [
        "dari output didapat:\n",
        "- Genre Drama adalah yang paling umum, muncul dalam 4.361 film.\n",
        "\n",
        "- Diikuti oleh Comedy, Thriller, dan Action.\n",
        "\n",
        "- Ini dihitung dengan memecah isi kolom genres berdasarkan tanda |, lalu dijumlahkan total kemunculan genre."
      ],
      "metadata": {
        "id": "v_pWjk5xQmsE"
      }
    },
    {
      "cell_type": "code",
      "source": [
        "# Ekstrak tahun dari title\n",
        "import re\n",
        "\n",
        "movies['year'] = movies['title'].str.extract(r'\\((\\d{4})\\)').astype(float)\n",
        "\n",
        "# Cek distribusi film per tahun\n",
        "movies_per_year = movies['year'].value_counts().sort_index()\n",
        "\n",
        "print(\"Jumlah film per tahun (top 10 tahun terbanyak):\")\n",
        "print(movies_per_year.tail(10))"
      ],
      "metadata": {
        "colab": {
          "base_uri": "https://localhost:8080/"
        },
        "id": "Y-x9NdjciW8z",
        "outputId": "85ca3647-be11-46b5-837c-31e16a2ecfa0"
      },
      "execution_count": 16,
      "outputs": [
        {
          "output_type": "stream",
          "name": "stdout",
          "text": [
            "Jumlah film per tahun (top 10 tahun terbanyak):\n",
            "year\n",
            "2009.0    282\n",
            "2010.0    247\n",
            "2011.0    254\n",
            "2012.0    233\n",
            "2013.0    239\n",
            "2014.0    278\n",
            "2015.0    274\n",
            "2016.0    218\n",
            "2017.0    147\n",
            "2018.0     41\n",
            "Name: count, dtype: int64\n"
          ]
        }
      ]
    },
    {
      "cell_type": "markdown",
      "source": [
        "dari output didapat:\n",
        "\n",
        "- Tahun diambil dari kolom title menggunakan regex \\((\\d{4})\\) untuk menangkap angka tahun dalam tanda kurung.\n",
        "\n",
        "- Jumlah film paling banyak di tahun 2009 (282 film).\n",
        "\n",
        "- Setelah 2015 jumlah film mulai menurun — kemungkinan karena data film yang lebih baru belum lengkap di dataset ini."
      ],
      "metadata": {
        "id": "igXQZut6QzQq"
      }
    },
    {
      "cell_type": "markdown",
      "source": [
        "# Data Preparation"
      ],
      "metadata": {
        "id": "YA--tZIBUNc4"
      }
    },
    {
      "cell_type": "markdown",
      "source": [
        "### Gabung movies dan ratings"
      ],
      "metadata": {
        "id": "G9ysx8gnUi77"
      }
    },
    {
      "cell_type": "code",
      "source": [
        "# Menggabungkan berdasarkan 'movieId'\n",
        "movie_ratings = pd.merge(ratings, movies, on='movieId')\n",
        "\n",
        "# Lihat 5 data teratas\n",
        "movie_ratings.head()"
      ],
      "metadata": {
        "colab": {
          "base_uri": "https://localhost:8080/",
          "height": 206
        },
        "id": "AzR1aeO5UUi-",
        "outputId": "3a46c623-1daa-470a-ad6d-a698c320418c"
      },
      "execution_count": 17,
      "outputs": [
        {
          "output_type": "execute_result",
          "data": {
            "text/plain": [
              "   userId  movieId  rating  timestamp                        title  \\\n",
              "0       1        1     4.0  964982703             Toy Story (1995)   \n",
              "1       1        3     4.0  964981247      Grumpier Old Men (1995)   \n",
              "2       1        6     4.0  964982224                  Heat (1995)   \n",
              "3       1       47     5.0  964983815  Seven (a.k.a. Se7en) (1995)   \n",
              "4       1       50     5.0  964982931   Usual Suspects, The (1995)   \n",
              "\n",
              "                                        genres    year  \n",
              "0  Adventure|Animation|Children|Comedy|Fantasy  1995.0  \n",
              "1                               Comedy|Romance  1995.0  \n",
              "2                        Action|Crime|Thriller  1995.0  \n",
              "3                             Mystery|Thriller  1995.0  \n",
              "4                       Crime|Mystery|Thriller  1995.0  "
            ],
            "text/html": [
              "\n",
              "  <div id=\"df-34d11750-607a-45eb-bf58-c85666fc3537\" class=\"colab-df-container\">\n",
              "    <div>\n",
              "<style scoped>\n",
              "    .dataframe tbody tr th:only-of-type {\n",
              "        vertical-align: middle;\n",
              "    }\n",
              "\n",
              "    .dataframe tbody tr th {\n",
              "        vertical-align: top;\n",
              "    }\n",
              "\n",
              "    .dataframe thead th {\n",
              "        text-align: right;\n",
              "    }\n",
              "</style>\n",
              "<table border=\"1\" class=\"dataframe\">\n",
              "  <thead>\n",
              "    <tr style=\"text-align: right;\">\n",
              "      <th></th>\n",
              "      <th>userId</th>\n",
              "      <th>movieId</th>\n",
              "      <th>rating</th>\n",
              "      <th>timestamp</th>\n",
              "      <th>title</th>\n",
              "      <th>genres</th>\n",
              "      <th>year</th>\n",
              "    </tr>\n",
              "  </thead>\n",
              "  <tbody>\n",
              "    <tr>\n",
              "      <th>0</th>\n",
              "      <td>1</td>\n",
              "      <td>1</td>\n",
              "      <td>4.0</td>\n",
              "      <td>964982703</td>\n",
              "      <td>Toy Story (1995)</td>\n",
              "      <td>Adventure|Animation|Children|Comedy|Fantasy</td>\n",
              "      <td>1995.0</td>\n",
              "    </tr>\n",
              "    <tr>\n",
              "      <th>1</th>\n",
              "      <td>1</td>\n",
              "      <td>3</td>\n",
              "      <td>4.0</td>\n",
              "      <td>964981247</td>\n",
              "      <td>Grumpier Old Men (1995)</td>\n",
              "      <td>Comedy|Romance</td>\n",
              "      <td>1995.0</td>\n",
              "    </tr>\n",
              "    <tr>\n",
              "      <th>2</th>\n",
              "      <td>1</td>\n",
              "      <td>6</td>\n",
              "      <td>4.0</td>\n",
              "      <td>964982224</td>\n",
              "      <td>Heat (1995)</td>\n",
              "      <td>Action|Crime|Thriller</td>\n",
              "      <td>1995.0</td>\n",
              "    </tr>\n",
              "    <tr>\n",
              "      <th>3</th>\n",
              "      <td>1</td>\n",
              "      <td>47</td>\n",
              "      <td>5.0</td>\n",
              "      <td>964983815</td>\n",
              "      <td>Seven (a.k.a. Se7en) (1995)</td>\n",
              "      <td>Mystery|Thriller</td>\n",
              "      <td>1995.0</td>\n",
              "    </tr>\n",
              "    <tr>\n",
              "      <th>4</th>\n",
              "      <td>1</td>\n",
              "      <td>50</td>\n",
              "      <td>5.0</td>\n",
              "      <td>964982931</td>\n",
              "      <td>Usual Suspects, The (1995)</td>\n",
              "      <td>Crime|Mystery|Thriller</td>\n",
              "      <td>1995.0</td>\n",
              "    </tr>\n",
              "  </tbody>\n",
              "</table>\n",
              "</div>\n",
              "    <div class=\"colab-df-buttons\">\n",
              "\n",
              "  <div class=\"colab-df-container\">\n",
              "    <button class=\"colab-df-convert\" onclick=\"convertToInteractive('df-34d11750-607a-45eb-bf58-c85666fc3537')\"\n",
              "            title=\"Convert this dataframe to an interactive table.\"\n",
              "            style=\"display:none;\">\n",
              "\n",
              "  <svg xmlns=\"http://www.w3.org/2000/svg\" height=\"24px\" viewBox=\"0 -960 960 960\">\n",
              "    <path d=\"M120-120v-720h720v720H120Zm60-500h600v-160H180v160Zm220 220h160v-160H400v160Zm0 220h160v-160H400v160ZM180-400h160v-160H180v160Zm440 0h160v-160H620v160ZM180-180h160v-160H180v160Zm440 0h160v-160H620v160Z\"/>\n",
              "  </svg>\n",
              "    </button>\n",
              "\n",
              "  <style>\n",
              "    .colab-df-container {\n",
              "      display:flex;\n",
              "      gap: 12px;\n",
              "    }\n",
              "\n",
              "    .colab-df-convert {\n",
              "      background-color: #E8F0FE;\n",
              "      border: none;\n",
              "      border-radius: 50%;\n",
              "      cursor: pointer;\n",
              "      display: none;\n",
              "      fill: #1967D2;\n",
              "      height: 32px;\n",
              "      padding: 0 0 0 0;\n",
              "      width: 32px;\n",
              "    }\n",
              "\n",
              "    .colab-df-convert:hover {\n",
              "      background-color: #E2EBFA;\n",
              "      box-shadow: 0px 1px 2px rgba(60, 64, 67, 0.3), 0px 1px 3px 1px rgba(60, 64, 67, 0.15);\n",
              "      fill: #174EA6;\n",
              "    }\n",
              "\n",
              "    .colab-df-buttons div {\n",
              "      margin-bottom: 4px;\n",
              "    }\n",
              "\n",
              "    [theme=dark] .colab-df-convert {\n",
              "      background-color: #3B4455;\n",
              "      fill: #D2E3FC;\n",
              "    }\n",
              "\n",
              "    [theme=dark] .colab-df-convert:hover {\n",
              "      background-color: #434B5C;\n",
              "      box-shadow: 0px 1px 3px 1px rgba(0, 0, 0, 0.15);\n",
              "      filter: drop-shadow(0px 1px 2px rgba(0, 0, 0, 0.3));\n",
              "      fill: #FFFFFF;\n",
              "    }\n",
              "  </style>\n",
              "\n",
              "    <script>\n",
              "      const buttonEl =\n",
              "        document.querySelector('#df-34d11750-607a-45eb-bf58-c85666fc3537 button.colab-df-convert');\n",
              "      buttonEl.style.display =\n",
              "        google.colab.kernel.accessAllowed ? 'block' : 'none';\n",
              "\n",
              "      async function convertToInteractive(key) {\n",
              "        const element = document.querySelector('#df-34d11750-607a-45eb-bf58-c85666fc3537');\n",
              "        const dataTable =\n",
              "          await google.colab.kernel.invokeFunction('convertToInteractive',\n",
              "                                                    [key], {});\n",
              "        if (!dataTable) return;\n",
              "\n",
              "        const docLinkHtml = 'Like what you see? Visit the ' +\n",
              "          '<a target=\"_blank\" href=https://colab.research.google.com/notebooks/data_table.ipynb>data table notebook</a>'\n",
              "          + ' to learn more about interactive tables.';\n",
              "        element.innerHTML = '';\n",
              "        dataTable['output_type'] = 'display_data';\n",
              "        await google.colab.output.renderOutput(dataTable, element);\n",
              "        const docLink = document.createElement('div');\n",
              "        docLink.innerHTML = docLinkHtml;\n",
              "        element.appendChild(docLink);\n",
              "      }\n",
              "    </script>\n",
              "  </div>\n",
              "\n",
              "\n",
              "    <div id=\"df-5ba1cd9b-bf40-49d2-965f-e513c1b980a0\">\n",
              "      <button class=\"colab-df-quickchart\" onclick=\"quickchart('df-5ba1cd9b-bf40-49d2-965f-e513c1b980a0')\"\n",
              "                title=\"Suggest charts\"\n",
              "                style=\"display:none;\">\n",
              "\n",
              "<svg xmlns=\"http://www.w3.org/2000/svg\" height=\"24px\"viewBox=\"0 0 24 24\"\n",
              "     width=\"24px\">\n",
              "    <g>\n",
              "        <path d=\"M19 3H5c-1.1 0-2 .9-2 2v14c0 1.1.9 2 2 2h14c1.1 0 2-.9 2-2V5c0-1.1-.9-2-2-2zM9 17H7v-7h2v7zm4 0h-2V7h2v10zm4 0h-2v-4h2v4z\"/>\n",
              "    </g>\n",
              "</svg>\n",
              "      </button>\n",
              "\n",
              "<style>\n",
              "  .colab-df-quickchart {\n",
              "      --bg-color: #E8F0FE;\n",
              "      --fill-color: #1967D2;\n",
              "      --hover-bg-color: #E2EBFA;\n",
              "      --hover-fill-color: #174EA6;\n",
              "      --disabled-fill-color: #AAA;\n",
              "      --disabled-bg-color: #DDD;\n",
              "  }\n",
              "\n",
              "  [theme=dark] .colab-df-quickchart {\n",
              "      --bg-color: #3B4455;\n",
              "      --fill-color: #D2E3FC;\n",
              "      --hover-bg-color: #434B5C;\n",
              "      --hover-fill-color: #FFFFFF;\n",
              "      --disabled-bg-color: #3B4455;\n",
              "      --disabled-fill-color: #666;\n",
              "  }\n",
              "\n",
              "  .colab-df-quickchart {\n",
              "    background-color: var(--bg-color);\n",
              "    border: none;\n",
              "    border-radius: 50%;\n",
              "    cursor: pointer;\n",
              "    display: none;\n",
              "    fill: var(--fill-color);\n",
              "    height: 32px;\n",
              "    padding: 0;\n",
              "    width: 32px;\n",
              "  }\n",
              "\n",
              "  .colab-df-quickchart:hover {\n",
              "    background-color: var(--hover-bg-color);\n",
              "    box-shadow: 0 1px 2px rgba(60, 64, 67, 0.3), 0 1px 3px 1px rgba(60, 64, 67, 0.15);\n",
              "    fill: var(--button-hover-fill-color);\n",
              "  }\n",
              "\n",
              "  .colab-df-quickchart-complete:disabled,\n",
              "  .colab-df-quickchart-complete:disabled:hover {\n",
              "    background-color: var(--disabled-bg-color);\n",
              "    fill: var(--disabled-fill-color);\n",
              "    box-shadow: none;\n",
              "  }\n",
              "\n",
              "  .colab-df-spinner {\n",
              "    border: 2px solid var(--fill-color);\n",
              "    border-color: transparent;\n",
              "    border-bottom-color: var(--fill-color);\n",
              "    animation:\n",
              "      spin 1s steps(1) infinite;\n",
              "  }\n",
              "\n",
              "  @keyframes spin {\n",
              "    0% {\n",
              "      border-color: transparent;\n",
              "      border-bottom-color: var(--fill-color);\n",
              "      border-left-color: var(--fill-color);\n",
              "    }\n",
              "    20% {\n",
              "      border-color: transparent;\n",
              "      border-left-color: var(--fill-color);\n",
              "      border-top-color: var(--fill-color);\n",
              "    }\n",
              "    30% {\n",
              "      border-color: transparent;\n",
              "      border-left-color: var(--fill-color);\n",
              "      border-top-color: var(--fill-color);\n",
              "      border-right-color: var(--fill-color);\n",
              "    }\n",
              "    40% {\n",
              "      border-color: transparent;\n",
              "      border-right-color: var(--fill-color);\n",
              "      border-top-color: var(--fill-color);\n",
              "    }\n",
              "    60% {\n",
              "      border-color: transparent;\n",
              "      border-right-color: var(--fill-color);\n",
              "    }\n",
              "    80% {\n",
              "      border-color: transparent;\n",
              "      border-right-color: var(--fill-color);\n",
              "      border-bottom-color: var(--fill-color);\n",
              "    }\n",
              "    90% {\n",
              "      border-color: transparent;\n",
              "      border-bottom-color: var(--fill-color);\n",
              "    }\n",
              "  }\n",
              "</style>\n",
              "\n",
              "      <script>\n",
              "        async function quickchart(key) {\n",
              "          const quickchartButtonEl =\n",
              "            document.querySelector('#' + key + ' button');\n",
              "          quickchartButtonEl.disabled = true;  // To prevent multiple clicks.\n",
              "          quickchartButtonEl.classList.add('colab-df-spinner');\n",
              "          try {\n",
              "            const charts = await google.colab.kernel.invokeFunction(\n",
              "                'suggestCharts', [key], {});\n",
              "          } catch (error) {\n",
              "            console.error('Error during call to suggestCharts:', error);\n",
              "          }\n",
              "          quickchartButtonEl.classList.remove('colab-df-spinner');\n",
              "          quickchartButtonEl.classList.add('colab-df-quickchart-complete');\n",
              "        }\n",
              "        (() => {\n",
              "          let quickchartButtonEl =\n",
              "            document.querySelector('#df-5ba1cd9b-bf40-49d2-965f-e513c1b980a0 button');\n",
              "          quickchartButtonEl.style.display =\n",
              "            google.colab.kernel.accessAllowed ? 'block' : 'none';\n",
              "        })();\n",
              "      </script>\n",
              "    </div>\n",
              "\n",
              "    </div>\n",
              "  </div>\n"
            ],
            "application/vnd.google.colaboratory.intrinsic+json": {
              "type": "dataframe",
              "variable_name": "movie_ratings"
            }
          },
          "metadata": {},
          "execution_count": 17
        }
      ]
    },
    {
      "cell_type": "markdown",
      "source": [
        "dari output didapat:\n",
        "\n",
        "- Dataset baru movie_ratings sekarang mengandung semua kolom dari ratings dan juga title, genres, serta year dari movies.\n",
        "\n",
        "- Ini membuat analisis lebih fleksibel: kita bisa filter berdasarkan genre, tahun, dll sekaligus melihat rating."
      ],
      "metadata": {
        "id": "xHAC4q8BUwum"
      }
    },
    {
      "cell_type": "markdown",
      "source": [
        "### Cek Missing Values dan Menanganinya"
      ],
      "metadata": {
        "id": "zmMTIxRHVFK8"
      }
    },
    {
      "cell_type": "code",
      "source": [
        "print(\"Jumlah missing values per kolom:\")\n",
        "movie_ratings.isnull().sum()"
      ],
      "metadata": {
        "colab": {
          "base_uri": "https://localhost:8080/",
          "height": 321
        },
        "id": "GbEo_aKmVG2p",
        "outputId": "40787b72-3170-4185-d371-becd56a6ac9f"
      },
      "execution_count": 18,
      "outputs": [
        {
          "output_type": "stream",
          "name": "stdout",
          "text": [
            "Jumlah missing values per kolom:\n"
          ]
        },
        {
          "output_type": "execute_result",
          "data": {
            "text/plain": [
              "userId        0\n",
              "movieId       0\n",
              "rating        0\n",
              "timestamp     0\n",
              "title         0\n",
              "genres        0\n",
              "year         18\n",
              "dtype: int64"
            ],
            "text/html": [
              "<div>\n",
              "<style scoped>\n",
              "    .dataframe tbody tr th:only-of-type {\n",
              "        vertical-align: middle;\n",
              "    }\n",
              "\n",
              "    .dataframe tbody tr th {\n",
              "        vertical-align: top;\n",
              "    }\n",
              "\n",
              "    .dataframe thead th {\n",
              "        text-align: right;\n",
              "    }\n",
              "</style>\n",
              "<table border=\"1\" class=\"dataframe\">\n",
              "  <thead>\n",
              "    <tr style=\"text-align: right;\">\n",
              "      <th></th>\n",
              "      <th>0</th>\n",
              "    </tr>\n",
              "  </thead>\n",
              "  <tbody>\n",
              "    <tr>\n",
              "      <th>userId</th>\n",
              "      <td>0</td>\n",
              "    </tr>\n",
              "    <tr>\n",
              "      <th>movieId</th>\n",
              "      <td>0</td>\n",
              "    </tr>\n",
              "    <tr>\n",
              "      <th>rating</th>\n",
              "      <td>0</td>\n",
              "    </tr>\n",
              "    <tr>\n",
              "      <th>timestamp</th>\n",
              "      <td>0</td>\n",
              "    </tr>\n",
              "    <tr>\n",
              "      <th>title</th>\n",
              "      <td>0</td>\n",
              "    </tr>\n",
              "    <tr>\n",
              "      <th>genres</th>\n",
              "      <td>0</td>\n",
              "    </tr>\n",
              "    <tr>\n",
              "      <th>year</th>\n",
              "      <td>18</td>\n",
              "    </tr>\n",
              "  </tbody>\n",
              "</table>\n",
              "</div><br><label><b>dtype:</b> int64</label>"
            ]
          },
          "metadata": {},
          "execution_count": 18
        }
      ]
    },
    {
      "cell_type": "markdown",
      "source": [
        "dari output didapat:\n",
        "\n",
        "- Hanya kolom year yang punya 18 missing values, karena tidak semua judul film memiliki tahun di title.\n",
        "\n",
        "- Nanti bisa drop atau isi dengan strategi tertentu (misalnya dengan median atau kategori “unknown”)."
      ],
      "metadata": {
        "id": "7AIL6vHZVavl"
      }
    },
    {
      "cell_type": "code",
      "source": [
        "# Tangani Missing Value (contoh: drop baris dengan year kosong)\n",
        "movie_ratings_clean = movie_ratings.dropna(subset=['year'])"
      ],
      "metadata": {
        "id": "WcOsgvXPVtYJ"
      },
      "execution_count": 19,
      "outputs": []
    },
    {
      "cell_type": "markdown",
      "source": [
        "Menghapus baris yang tidak memiliki tahun rilis karena bisa mengganggu analisis time series atau tren per tahun."
      ],
      "metadata": {
        "id": "LBKyj-86WrRm"
      }
    },
    {
      "cell_type": "code",
      "source": [
        "# Cek kembali\n",
        "movie_ratings_clean.isnull().sum()"
      ],
      "metadata": {
        "colab": {
          "base_uri": "https://localhost:8080/",
          "height": 304
        },
        "id": "qsUClg7tV2bv",
        "outputId": "e9531ab0-614f-4921-ceb2-e2f3d1b69e01"
      },
      "execution_count": 20,
      "outputs": [
        {
          "output_type": "execute_result",
          "data": {
            "text/plain": [
              "userId       0\n",
              "movieId      0\n",
              "rating       0\n",
              "timestamp    0\n",
              "title        0\n",
              "genres       0\n",
              "year         0\n",
              "dtype: int64"
            ],
            "text/html": [
              "<div>\n",
              "<style scoped>\n",
              "    .dataframe tbody tr th:only-of-type {\n",
              "        vertical-align: middle;\n",
              "    }\n",
              "\n",
              "    .dataframe tbody tr th {\n",
              "        vertical-align: top;\n",
              "    }\n",
              "\n",
              "    .dataframe thead th {\n",
              "        text-align: right;\n",
              "    }\n",
              "</style>\n",
              "<table border=\"1\" class=\"dataframe\">\n",
              "  <thead>\n",
              "    <tr style=\"text-align: right;\">\n",
              "      <th></th>\n",
              "      <th>0</th>\n",
              "    </tr>\n",
              "  </thead>\n",
              "  <tbody>\n",
              "    <tr>\n",
              "      <th>userId</th>\n",
              "      <td>0</td>\n",
              "    </tr>\n",
              "    <tr>\n",
              "      <th>movieId</th>\n",
              "      <td>0</td>\n",
              "    </tr>\n",
              "    <tr>\n",
              "      <th>rating</th>\n",
              "      <td>0</td>\n",
              "    </tr>\n",
              "    <tr>\n",
              "      <th>timestamp</th>\n",
              "      <td>0</td>\n",
              "    </tr>\n",
              "    <tr>\n",
              "      <th>title</th>\n",
              "      <td>0</td>\n",
              "    </tr>\n",
              "    <tr>\n",
              "      <th>genres</th>\n",
              "      <td>0</td>\n",
              "    </tr>\n",
              "    <tr>\n",
              "      <th>year</th>\n",
              "      <td>0</td>\n",
              "    </tr>\n",
              "  </tbody>\n",
              "</table>\n",
              "</div><br><label><b>dtype:</b> int64</label>"
            ]
          },
          "metadata": {},
          "execution_count": 20
        }
      ]
    },
    {
      "cell_type": "markdown",
      "source": [
        "Data sudah bersih dari Missing Value"
      ],
      "metadata": {
        "id": "QLYZsiTtWzl0"
      }
    },
    {
      "cell_type": "markdown",
      "source": [
        "### Ubah tahun jadi integer"
      ],
      "metadata": {
        "id": "Q2unciY_fEVQ"
      }
    },
    {
      "cell_type": "code",
      "source": [
        "movie_ratings_clean['year'] = movie_ratings_clean['year'].astype(int)"
      ],
      "metadata": {
        "colab": {
          "base_uri": "https://localhost:8080/"
        },
        "id": "KHRcWAakeypB",
        "outputId": "716459a3-860a-49d8-da2f-eb4f7442ff81"
      },
      "execution_count": 21,
      "outputs": [
        {
          "output_type": "stream",
          "name": "stderr",
          "text": [
            "<ipython-input-21-411b92682282>:1: SettingWithCopyWarning: \n",
            "A value is trying to be set on a copy of a slice from a DataFrame.\n",
            "Try using .loc[row_indexer,col_indexer] = value instead\n",
            "\n",
            "See the caveats in the documentation: https://pandas.pydata.org/pandas-docs/stable/user_guide/indexing.html#returning-a-view-versus-a-copy\n",
            "  movie_ratings_clean['year'] = movie_ratings_clean['year'].astype(int)\n"
          ]
        }
      ]
    },
    {
      "cell_type": "markdown",
      "source": [
        "Kode ini digunakan untuk mengubah tipe data kolom year menjadi integer (int)."
      ],
      "metadata": {
        "id": "k42I8paAFH-4"
      }
    },
    {
      "cell_type": "code",
      "source": [
        "movie_ratings_clean.info()"
      ],
      "metadata": {
        "colab": {
          "base_uri": "https://localhost:8080/"
        },
        "id": "XU7SsR2afNjD",
        "outputId": "4a115c02-560c-4352-cff1-d674b37ab8b3"
      },
      "execution_count": 22,
      "outputs": [
        {
          "output_type": "stream",
          "name": "stdout",
          "text": [
            "<class 'pandas.core.frame.DataFrame'>\n",
            "Index: 100818 entries, 0 to 100835\n",
            "Data columns (total 7 columns):\n",
            " #   Column     Non-Null Count   Dtype  \n",
            "---  ------     --------------   -----  \n",
            " 0   userId     100818 non-null  int64  \n",
            " 1   movieId    100818 non-null  int64  \n",
            " 2   rating     100818 non-null  float64\n",
            " 3   timestamp  100818 non-null  int64  \n",
            " 4   title      100818 non-null  object \n",
            " 5   genres     100818 non-null  object \n",
            " 6   year       100818 non-null  int64  \n",
            "dtypes: float64(1), int64(4), object(2)\n",
            "memory usage: 6.2+ MB\n"
          ]
        }
      ]
    },
    {
      "cell_type": "markdown",
      "source": [
        "pada kolom year udah berubah data typenya menjadi integer dari float"
      ],
      "metadata": {
        "id": "HdtkQoRwFLwL"
      }
    },
    {
      "cell_type": "markdown",
      "source": [
        "### Buat kolom genre terpisah"
      ],
      "metadata": {
        "id": "i12WzeUIfXeg"
      }
    },
    {
      "cell_type": "code",
      "source": [
        "# Pisah genre menjadi beberapa kolom (multi-label binarizer)\n",
        "from sklearn.preprocessing import MultiLabelBinarizer\n",
        "\n",
        "# Ubah kolom genre jadi list\n",
        "movie_ratings_clean['genres'] = movie_ratings_clean['genres'].apply(lambda x: x.split('|'))\n",
        "\n",
        "mlb = MultiLabelBinarizer()\n",
        "genre_encoded = pd.DataFrame(mlb.fit_transform(movie_ratings_clean['genres']), columns=mlb.classes_)\n",
        "\n",
        "# Gabungkan dengan data asli\n",
        "movie_ratings_final = pd.concat([movie_ratings_clean, genre_encoded], axis=1)\n",
        "\n",
        "# Cek hasil akhir\n",
        "movie_ratings_final.head()"
      ],
      "metadata": {
        "colab": {
          "base_uri": "https://localhost:8080/",
          "height": 427
        },
        "id": "yQmTyg_-fYpS",
        "outputId": "c70a9f53-786c-4d1e-f64b-52c0646c204d"
      },
      "execution_count": 23,
      "outputs": [
        {
          "output_type": "stream",
          "name": "stderr",
          "text": [
            "<ipython-input-23-7f259fbc501e>:5: SettingWithCopyWarning: \n",
            "A value is trying to be set on a copy of a slice from a DataFrame.\n",
            "Try using .loc[row_indexer,col_indexer] = value instead\n",
            "\n",
            "See the caveats in the documentation: https://pandas.pydata.org/pandas-docs/stable/user_guide/indexing.html#returning-a-view-versus-a-copy\n",
            "  movie_ratings_clean['genres'] = movie_ratings_clean['genres'].apply(lambda x: x.split('|'))\n"
          ]
        },
        {
          "output_type": "execute_result",
          "data": {
            "text/plain": [
              "   userId  movieId  rating    timestamp                        title  \\\n",
              "0     1.0      1.0     4.0  964982703.0             Toy Story (1995)   \n",
              "1     1.0      3.0     4.0  964981247.0      Grumpier Old Men (1995)   \n",
              "2     1.0      6.0     4.0  964982224.0                  Heat (1995)   \n",
              "3     1.0     47.0     5.0  964983815.0  Seven (a.k.a. Se7en) (1995)   \n",
              "4     1.0     50.0     5.0  964982931.0   Usual Suspects, The (1995)   \n",
              "\n",
              "                                              genres    year  \\\n",
              "0  [Adventure, Animation, Children, Comedy, Fantasy]  1995.0   \n",
              "1                                  [Comedy, Romance]  1995.0   \n",
              "2                          [Action, Crime, Thriller]  1995.0   \n",
              "3                                [Mystery, Thriller]  1995.0   \n",
              "4                         [Crime, Mystery, Thriller]  1995.0   \n",
              "\n",
              "   (no genres listed)  Action  Adventure  ...  Film-Noir  Horror  IMAX  \\\n",
              "0                 0.0     0.0        1.0  ...        0.0     0.0   0.0   \n",
              "1                 0.0     0.0        0.0  ...        0.0     0.0   0.0   \n",
              "2                 0.0     1.0        0.0  ...        0.0     0.0   0.0   \n",
              "3                 0.0     0.0        0.0  ...        0.0     0.0   0.0   \n",
              "4                 0.0     0.0        0.0  ...        0.0     0.0   0.0   \n",
              "\n",
              "   Musical  Mystery  Romance  Sci-Fi  Thriller  War  Western  \n",
              "0      0.0      0.0      0.0     0.0       0.0  0.0      0.0  \n",
              "1      0.0      0.0      1.0     0.0       0.0  0.0      0.0  \n",
              "2      0.0      0.0      0.0     0.0       1.0  0.0      0.0  \n",
              "3      0.0      1.0      0.0     0.0       1.0  0.0      0.0  \n",
              "4      0.0      1.0      0.0     0.0       1.0  0.0      0.0  \n",
              "\n",
              "[5 rows x 27 columns]"
            ],
            "text/html": [
              "\n",
              "  <div id=\"df-c423ce47-29c8-4143-b9e9-fb0d3873e7c7\" class=\"colab-df-container\">\n",
              "    <div>\n",
              "<style scoped>\n",
              "    .dataframe tbody tr th:only-of-type {\n",
              "        vertical-align: middle;\n",
              "    }\n",
              "\n",
              "    .dataframe tbody tr th {\n",
              "        vertical-align: top;\n",
              "    }\n",
              "\n",
              "    .dataframe thead th {\n",
              "        text-align: right;\n",
              "    }\n",
              "</style>\n",
              "<table border=\"1\" class=\"dataframe\">\n",
              "  <thead>\n",
              "    <tr style=\"text-align: right;\">\n",
              "      <th></th>\n",
              "      <th>userId</th>\n",
              "      <th>movieId</th>\n",
              "      <th>rating</th>\n",
              "      <th>timestamp</th>\n",
              "      <th>title</th>\n",
              "      <th>genres</th>\n",
              "      <th>year</th>\n",
              "      <th>(no genres listed)</th>\n",
              "      <th>Action</th>\n",
              "      <th>Adventure</th>\n",
              "      <th>...</th>\n",
              "      <th>Film-Noir</th>\n",
              "      <th>Horror</th>\n",
              "      <th>IMAX</th>\n",
              "      <th>Musical</th>\n",
              "      <th>Mystery</th>\n",
              "      <th>Romance</th>\n",
              "      <th>Sci-Fi</th>\n",
              "      <th>Thriller</th>\n",
              "      <th>War</th>\n",
              "      <th>Western</th>\n",
              "    </tr>\n",
              "  </thead>\n",
              "  <tbody>\n",
              "    <tr>\n",
              "      <th>0</th>\n",
              "      <td>1.0</td>\n",
              "      <td>1.0</td>\n",
              "      <td>4.0</td>\n",
              "      <td>964982703.0</td>\n",
              "      <td>Toy Story (1995)</td>\n",
              "      <td>[Adventure, Animation, Children, Comedy, Fantasy]</td>\n",
              "      <td>1995.0</td>\n",
              "      <td>0.0</td>\n",
              "      <td>0.0</td>\n",
              "      <td>1.0</td>\n",
              "      <td>...</td>\n",
              "      <td>0.0</td>\n",
              "      <td>0.0</td>\n",
              "      <td>0.0</td>\n",
              "      <td>0.0</td>\n",
              "      <td>0.0</td>\n",
              "      <td>0.0</td>\n",
              "      <td>0.0</td>\n",
              "      <td>0.0</td>\n",
              "      <td>0.0</td>\n",
              "      <td>0.0</td>\n",
              "    </tr>\n",
              "    <tr>\n",
              "      <th>1</th>\n",
              "      <td>1.0</td>\n",
              "      <td>3.0</td>\n",
              "      <td>4.0</td>\n",
              "      <td>964981247.0</td>\n",
              "      <td>Grumpier Old Men (1995)</td>\n",
              "      <td>[Comedy, Romance]</td>\n",
              "      <td>1995.0</td>\n",
              "      <td>0.0</td>\n",
              "      <td>0.0</td>\n",
              "      <td>0.0</td>\n",
              "      <td>...</td>\n",
              "      <td>0.0</td>\n",
              "      <td>0.0</td>\n",
              "      <td>0.0</td>\n",
              "      <td>0.0</td>\n",
              "      <td>0.0</td>\n",
              "      <td>1.0</td>\n",
              "      <td>0.0</td>\n",
              "      <td>0.0</td>\n",
              "      <td>0.0</td>\n",
              "      <td>0.0</td>\n",
              "    </tr>\n",
              "    <tr>\n",
              "      <th>2</th>\n",
              "      <td>1.0</td>\n",
              "      <td>6.0</td>\n",
              "      <td>4.0</td>\n",
              "      <td>964982224.0</td>\n",
              "      <td>Heat (1995)</td>\n",
              "      <td>[Action, Crime, Thriller]</td>\n",
              "      <td>1995.0</td>\n",
              "      <td>0.0</td>\n",
              "      <td>1.0</td>\n",
              "      <td>0.0</td>\n",
              "      <td>...</td>\n",
              "      <td>0.0</td>\n",
              "      <td>0.0</td>\n",
              "      <td>0.0</td>\n",
              "      <td>0.0</td>\n",
              "      <td>0.0</td>\n",
              "      <td>0.0</td>\n",
              "      <td>0.0</td>\n",
              "      <td>1.0</td>\n",
              "      <td>0.0</td>\n",
              "      <td>0.0</td>\n",
              "    </tr>\n",
              "    <tr>\n",
              "      <th>3</th>\n",
              "      <td>1.0</td>\n",
              "      <td>47.0</td>\n",
              "      <td>5.0</td>\n",
              "      <td>964983815.0</td>\n",
              "      <td>Seven (a.k.a. Se7en) (1995)</td>\n",
              "      <td>[Mystery, Thriller]</td>\n",
              "      <td>1995.0</td>\n",
              "      <td>0.0</td>\n",
              "      <td>0.0</td>\n",
              "      <td>0.0</td>\n",
              "      <td>...</td>\n",
              "      <td>0.0</td>\n",
              "      <td>0.0</td>\n",
              "      <td>0.0</td>\n",
              "      <td>0.0</td>\n",
              "      <td>1.0</td>\n",
              "      <td>0.0</td>\n",
              "      <td>0.0</td>\n",
              "      <td>1.0</td>\n",
              "      <td>0.0</td>\n",
              "      <td>0.0</td>\n",
              "    </tr>\n",
              "    <tr>\n",
              "      <th>4</th>\n",
              "      <td>1.0</td>\n",
              "      <td>50.0</td>\n",
              "      <td>5.0</td>\n",
              "      <td>964982931.0</td>\n",
              "      <td>Usual Suspects, The (1995)</td>\n",
              "      <td>[Crime, Mystery, Thriller]</td>\n",
              "      <td>1995.0</td>\n",
              "      <td>0.0</td>\n",
              "      <td>0.0</td>\n",
              "      <td>0.0</td>\n",
              "      <td>...</td>\n",
              "      <td>0.0</td>\n",
              "      <td>0.0</td>\n",
              "      <td>0.0</td>\n",
              "      <td>0.0</td>\n",
              "      <td>1.0</td>\n",
              "      <td>0.0</td>\n",
              "      <td>0.0</td>\n",
              "      <td>1.0</td>\n",
              "      <td>0.0</td>\n",
              "      <td>0.0</td>\n",
              "    </tr>\n",
              "  </tbody>\n",
              "</table>\n",
              "<p>5 rows × 27 columns</p>\n",
              "</div>\n",
              "    <div class=\"colab-df-buttons\">\n",
              "\n",
              "  <div class=\"colab-df-container\">\n",
              "    <button class=\"colab-df-convert\" onclick=\"convertToInteractive('df-c423ce47-29c8-4143-b9e9-fb0d3873e7c7')\"\n",
              "            title=\"Convert this dataframe to an interactive table.\"\n",
              "            style=\"display:none;\">\n",
              "\n",
              "  <svg xmlns=\"http://www.w3.org/2000/svg\" height=\"24px\" viewBox=\"0 -960 960 960\">\n",
              "    <path d=\"M120-120v-720h720v720H120Zm60-500h600v-160H180v160Zm220 220h160v-160H400v160Zm0 220h160v-160H400v160ZM180-400h160v-160H180v160Zm440 0h160v-160H620v160ZM180-180h160v-160H180v160Zm440 0h160v-160H620v160Z\"/>\n",
              "  </svg>\n",
              "    </button>\n",
              "\n",
              "  <style>\n",
              "    .colab-df-container {\n",
              "      display:flex;\n",
              "      gap: 12px;\n",
              "    }\n",
              "\n",
              "    .colab-df-convert {\n",
              "      background-color: #E8F0FE;\n",
              "      border: none;\n",
              "      border-radius: 50%;\n",
              "      cursor: pointer;\n",
              "      display: none;\n",
              "      fill: #1967D2;\n",
              "      height: 32px;\n",
              "      padding: 0 0 0 0;\n",
              "      width: 32px;\n",
              "    }\n",
              "\n",
              "    .colab-df-convert:hover {\n",
              "      background-color: #E2EBFA;\n",
              "      box-shadow: 0px 1px 2px rgba(60, 64, 67, 0.3), 0px 1px 3px 1px rgba(60, 64, 67, 0.15);\n",
              "      fill: #174EA6;\n",
              "    }\n",
              "\n",
              "    .colab-df-buttons div {\n",
              "      margin-bottom: 4px;\n",
              "    }\n",
              "\n",
              "    [theme=dark] .colab-df-convert {\n",
              "      background-color: #3B4455;\n",
              "      fill: #D2E3FC;\n",
              "    }\n",
              "\n",
              "    [theme=dark] .colab-df-convert:hover {\n",
              "      background-color: #434B5C;\n",
              "      box-shadow: 0px 1px 3px 1px rgba(0, 0, 0, 0.15);\n",
              "      filter: drop-shadow(0px 1px 2px rgba(0, 0, 0, 0.3));\n",
              "      fill: #FFFFFF;\n",
              "    }\n",
              "  </style>\n",
              "\n",
              "    <script>\n",
              "      const buttonEl =\n",
              "        document.querySelector('#df-c423ce47-29c8-4143-b9e9-fb0d3873e7c7 button.colab-df-convert');\n",
              "      buttonEl.style.display =\n",
              "        google.colab.kernel.accessAllowed ? 'block' : 'none';\n",
              "\n",
              "      async function convertToInteractive(key) {\n",
              "        const element = document.querySelector('#df-c423ce47-29c8-4143-b9e9-fb0d3873e7c7');\n",
              "        const dataTable =\n",
              "          await google.colab.kernel.invokeFunction('convertToInteractive',\n",
              "                                                    [key], {});\n",
              "        if (!dataTable) return;\n",
              "\n",
              "        const docLinkHtml = 'Like what you see? Visit the ' +\n",
              "          '<a target=\"_blank\" href=https://colab.research.google.com/notebooks/data_table.ipynb>data table notebook</a>'\n",
              "          + ' to learn more about interactive tables.';\n",
              "        element.innerHTML = '';\n",
              "        dataTable['output_type'] = 'display_data';\n",
              "        await google.colab.output.renderOutput(dataTable, element);\n",
              "        const docLink = document.createElement('div');\n",
              "        docLink.innerHTML = docLinkHtml;\n",
              "        element.appendChild(docLink);\n",
              "      }\n",
              "    </script>\n",
              "  </div>\n",
              "\n",
              "\n",
              "    <div id=\"df-60c6a334-e955-4628-a39b-7949d2ce2817\">\n",
              "      <button class=\"colab-df-quickchart\" onclick=\"quickchart('df-60c6a334-e955-4628-a39b-7949d2ce2817')\"\n",
              "                title=\"Suggest charts\"\n",
              "                style=\"display:none;\">\n",
              "\n",
              "<svg xmlns=\"http://www.w3.org/2000/svg\" height=\"24px\"viewBox=\"0 0 24 24\"\n",
              "     width=\"24px\">\n",
              "    <g>\n",
              "        <path d=\"M19 3H5c-1.1 0-2 .9-2 2v14c0 1.1.9 2 2 2h14c1.1 0 2-.9 2-2V5c0-1.1-.9-2-2-2zM9 17H7v-7h2v7zm4 0h-2V7h2v10zm4 0h-2v-4h2v4z\"/>\n",
              "    </g>\n",
              "</svg>\n",
              "      </button>\n",
              "\n",
              "<style>\n",
              "  .colab-df-quickchart {\n",
              "      --bg-color: #E8F0FE;\n",
              "      --fill-color: #1967D2;\n",
              "      --hover-bg-color: #E2EBFA;\n",
              "      --hover-fill-color: #174EA6;\n",
              "      --disabled-fill-color: #AAA;\n",
              "      --disabled-bg-color: #DDD;\n",
              "  }\n",
              "\n",
              "  [theme=dark] .colab-df-quickchart {\n",
              "      --bg-color: #3B4455;\n",
              "      --fill-color: #D2E3FC;\n",
              "      --hover-bg-color: #434B5C;\n",
              "      --hover-fill-color: #FFFFFF;\n",
              "      --disabled-bg-color: #3B4455;\n",
              "      --disabled-fill-color: #666;\n",
              "  }\n",
              "\n",
              "  .colab-df-quickchart {\n",
              "    background-color: var(--bg-color);\n",
              "    border: none;\n",
              "    border-radius: 50%;\n",
              "    cursor: pointer;\n",
              "    display: none;\n",
              "    fill: var(--fill-color);\n",
              "    height: 32px;\n",
              "    padding: 0;\n",
              "    width: 32px;\n",
              "  }\n",
              "\n",
              "  .colab-df-quickchart:hover {\n",
              "    background-color: var(--hover-bg-color);\n",
              "    box-shadow: 0 1px 2px rgba(60, 64, 67, 0.3), 0 1px 3px 1px rgba(60, 64, 67, 0.15);\n",
              "    fill: var(--button-hover-fill-color);\n",
              "  }\n",
              "\n",
              "  .colab-df-quickchart-complete:disabled,\n",
              "  .colab-df-quickchart-complete:disabled:hover {\n",
              "    background-color: var(--disabled-bg-color);\n",
              "    fill: var(--disabled-fill-color);\n",
              "    box-shadow: none;\n",
              "  }\n",
              "\n",
              "  .colab-df-spinner {\n",
              "    border: 2px solid var(--fill-color);\n",
              "    border-color: transparent;\n",
              "    border-bottom-color: var(--fill-color);\n",
              "    animation:\n",
              "      spin 1s steps(1) infinite;\n",
              "  }\n",
              "\n",
              "  @keyframes spin {\n",
              "    0% {\n",
              "      border-color: transparent;\n",
              "      border-bottom-color: var(--fill-color);\n",
              "      border-left-color: var(--fill-color);\n",
              "    }\n",
              "    20% {\n",
              "      border-color: transparent;\n",
              "      border-left-color: var(--fill-color);\n",
              "      border-top-color: var(--fill-color);\n",
              "    }\n",
              "    30% {\n",
              "      border-color: transparent;\n",
              "      border-left-color: var(--fill-color);\n",
              "      border-top-color: var(--fill-color);\n",
              "      border-right-color: var(--fill-color);\n",
              "    }\n",
              "    40% {\n",
              "      border-color: transparent;\n",
              "      border-right-color: var(--fill-color);\n",
              "      border-top-color: var(--fill-color);\n",
              "    }\n",
              "    60% {\n",
              "      border-color: transparent;\n",
              "      border-right-color: var(--fill-color);\n",
              "    }\n",
              "    80% {\n",
              "      border-color: transparent;\n",
              "      border-right-color: var(--fill-color);\n",
              "      border-bottom-color: var(--fill-color);\n",
              "    }\n",
              "    90% {\n",
              "      border-color: transparent;\n",
              "      border-bottom-color: var(--fill-color);\n",
              "    }\n",
              "  }\n",
              "</style>\n",
              "\n",
              "      <script>\n",
              "        async function quickchart(key) {\n",
              "          const quickchartButtonEl =\n",
              "            document.querySelector('#' + key + ' button');\n",
              "          quickchartButtonEl.disabled = true;  // To prevent multiple clicks.\n",
              "          quickchartButtonEl.classList.add('colab-df-spinner');\n",
              "          try {\n",
              "            const charts = await google.colab.kernel.invokeFunction(\n",
              "                'suggestCharts', [key], {});\n",
              "          } catch (error) {\n",
              "            console.error('Error during call to suggestCharts:', error);\n",
              "          }\n",
              "          quickchartButtonEl.classList.remove('colab-df-spinner');\n",
              "          quickchartButtonEl.classList.add('colab-df-quickchart-complete');\n",
              "        }\n",
              "        (() => {\n",
              "          let quickchartButtonEl =\n",
              "            document.querySelector('#df-60c6a334-e955-4628-a39b-7949d2ce2817 button');\n",
              "          quickchartButtonEl.style.display =\n",
              "            google.colab.kernel.accessAllowed ? 'block' : 'none';\n",
              "        })();\n",
              "      </script>\n",
              "    </div>\n",
              "\n",
              "    </div>\n",
              "  </div>\n"
            ],
            "application/vnd.google.colaboratory.intrinsic+json": {
              "type": "dataframe",
              "variable_name": "movie_ratings_final"
            }
          },
          "metadata": {},
          "execution_count": 23
        }
      ]
    },
    {
      "cell_type": "markdown",
      "source": [
        "dari output didapat:\n",
        "\n",
        "- Kolom genres sekarang adalah list, bukan string.\n",
        "\n",
        "- Kolom-kolom tambahan di akhir (Action, Comedy, ..., Western) adalah hasil binarisasi.\n",
        "\n",
        "- Berisi angka 0 dan 1 yang menunjukkan apakah film tersebut mengandung genre tersebut.\n",
        "\n",
        "Contoh:\n",
        "\n",
        "- Toy Story (1995) memiliki nilai 1 di kolom Adventure, Animation, Children, dll.\n",
        "\n",
        "- Heat (1995) memiliki 1 di Action, Crime, dan Thriller."
      ],
      "metadata": {
        "id": "cTEx-6V-G3qj"
      }
    },
    {
      "cell_type": "markdown",
      "source": [
        "# Modeling"
      ],
      "metadata": {
        "id": "SjsYGoi8floD"
      }
    },
    {
      "cell_type": "markdown",
      "source": [
        "### Content-Based Filtering dengan pendekatan User Profile Genre"
      ],
      "metadata": {
        "id": "6tU4jj3UIctD"
      }
    },
    {
      "cell_type": "markdown",
      "source": [
        "Cara Kerja:\n",
        "\n",
        "“Jika user menyukai film bergenre Action dan Sci-Fi, maka film lain dengan genre serupa akan lebih disukai.”"
      ],
      "metadata": {
        "id": "dgB1EwopuRCj"
      }
    },
    {
      "cell_type": "markdown",
      "source": [
        "✅ Kelebihan:\n",
        "- Tidak tergantung user lain: Hanya butuh data user itu sendiri → cocok untuk sistem individual.\n",
        "\n",
        "- Bekerja baik untuk cold-start user: Karena memanfaatkan metadata (genre), model masih bisa memberikan rekomendasi walau user belum banyak memberi rating.\n",
        "\n",
        "- Rekomendasi dapat dijelaskan: Misalnya: “Film ini direkomendasikan karena memiliki genre Action dan Sci-Fi yang Anda sukai.”\n",
        "\n",
        "- Lebih stabil terhadap perubahan data: Tidak terlalu terpengaruh oleh fluktuasi data rating user lain.\n",
        "\n",
        "❌ Kekurangan:\n",
        "- Rekomendasi cenderung sempit: User hanya mendapat rekomendasi yang mirip dengan yang sudah ditonton → kurang bisa eksplorasi genre/film baru.\n",
        "\n",
        "- Kualitas tergantung metadata: Jika informasi genre tidak lengkap atau tidak relevan, kualitas rekomendasi bisa buruk.\n",
        "\n",
        "- Tidak menangkap selera kompleks: Tidak mempertimbangkan bagaimana user lain menilai film serupa.\n",
        "\n"
      ],
      "metadata": {
        "id": "sVKsbM7Sthwr"
      }
    },
    {
      "cell_type": "code",
      "source": [
        "# Hitung preferensi genre tiap user\n",
        "user_profiles = movie_ratings_final.groupby('userId')[mlb.classes_].mean()\n",
        "user_profiles.head()"
      ],
      "metadata": {
        "colab": {
          "base_uri": "https://localhost:8080/",
          "height": 238
        },
        "id": "2-Ptos_xfmqQ",
        "outputId": "311ead07-89fc-4d82-fd96-27775ed5259f"
      },
      "execution_count": 24,
      "outputs": [
        {
          "output_type": "execute_result",
          "data": {
            "text/plain": [
              "        (no genres listed)    Action  Adventure  Animation  Children  \\\n",
              "userId                                                                 \n",
              "1.0                    0.0  0.387931   0.366379   0.125000  0.181034   \n",
              "2.0                    0.0  0.379310   0.103448   0.000000  0.000000   \n",
              "3.0                    0.0  0.358974   0.282051   0.102564  0.128205   \n",
              "4.0                    0.0  0.115741   0.134259   0.027778  0.046296   \n",
              "5.0                    0.0  0.204545   0.181818   0.136364  0.204545   \n",
              "\n",
              "          Comedy     Crime  Documentary     Drama   Fantasy  Film-Noir  \\\n",
              "userId                                                                   \n",
              "1.0     0.357759  0.193966     0.000000  0.293103  0.202586   0.004310   \n",
              "2.0     0.241379  0.344828     0.103448  0.586207  0.000000   0.000000   \n",
              "3.0     0.230769  0.051282     0.000000  0.410256  0.102564   0.000000   \n",
              "4.0     0.481481  0.125000     0.009259  0.555556  0.087963   0.018519   \n",
              "5.0     0.340909  0.272727     0.000000  0.568182  0.159091   0.000000   \n",
              "\n",
              "          Horror      IMAX   Musical   Mystery   Romance    Sci-Fi  Thriller  \\\n",
              "userId                                                                         \n",
              "1.0     0.073276  0.000000  0.094828  0.077586  0.112069  0.172414  0.237069   \n",
              "2.0     0.034483  0.137931  0.000000  0.068966  0.034483  0.137931  0.344828   \n",
              "3.0     0.205128  0.000000  0.025641  0.025641  0.128205  0.384615  0.179487   \n",
              "4.0     0.018519  0.004630  0.074074  0.106481  0.268519  0.055556  0.175926   \n",
              "5.0     0.022727  0.068182  0.113636  0.022727  0.250000  0.045455  0.204545   \n",
              "\n",
              "             War   Western  \n",
              "userId                      \n",
              "1.0     0.094828  0.030172  \n",
              "2.0     0.034483  0.034483  \n",
              "3.0     0.128205  0.000000  \n",
              "4.0     0.032407  0.046296  \n",
              "5.0     0.068182  0.045455  "
            ],
            "text/html": [
              "\n",
              "  <div id=\"df-d9a008af-3b35-4d98-8fc3-7cdd862a59ac\" class=\"colab-df-container\">\n",
              "    <div>\n",
              "<style scoped>\n",
              "    .dataframe tbody tr th:only-of-type {\n",
              "        vertical-align: middle;\n",
              "    }\n",
              "\n",
              "    .dataframe tbody tr th {\n",
              "        vertical-align: top;\n",
              "    }\n",
              "\n",
              "    .dataframe thead th {\n",
              "        text-align: right;\n",
              "    }\n",
              "</style>\n",
              "<table border=\"1\" class=\"dataframe\">\n",
              "  <thead>\n",
              "    <tr style=\"text-align: right;\">\n",
              "      <th></th>\n",
              "      <th>(no genres listed)</th>\n",
              "      <th>Action</th>\n",
              "      <th>Adventure</th>\n",
              "      <th>Animation</th>\n",
              "      <th>Children</th>\n",
              "      <th>Comedy</th>\n",
              "      <th>Crime</th>\n",
              "      <th>Documentary</th>\n",
              "      <th>Drama</th>\n",
              "      <th>Fantasy</th>\n",
              "      <th>Film-Noir</th>\n",
              "      <th>Horror</th>\n",
              "      <th>IMAX</th>\n",
              "      <th>Musical</th>\n",
              "      <th>Mystery</th>\n",
              "      <th>Romance</th>\n",
              "      <th>Sci-Fi</th>\n",
              "      <th>Thriller</th>\n",
              "      <th>War</th>\n",
              "      <th>Western</th>\n",
              "    </tr>\n",
              "    <tr>\n",
              "      <th>userId</th>\n",
              "      <th></th>\n",
              "      <th></th>\n",
              "      <th></th>\n",
              "      <th></th>\n",
              "      <th></th>\n",
              "      <th></th>\n",
              "      <th></th>\n",
              "      <th></th>\n",
              "      <th></th>\n",
              "      <th></th>\n",
              "      <th></th>\n",
              "      <th></th>\n",
              "      <th></th>\n",
              "      <th></th>\n",
              "      <th></th>\n",
              "      <th></th>\n",
              "      <th></th>\n",
              "      <th></th>\n",
              "      <th></th>\n",
              "      <th></th>\n",
              "    </tr>\n",
              "  </thead>\n",
              "  <tbody>\n",
              "    <tr>\n",
              "      <th>1.0</th>\n",
              "      <td>0.0</td>\n",
              "      <td>0.387931</td>\n",
              "      <td>0.366379</td>\n",
              "      <td>0.125000</td>\n",
              "      <td>0.181034</td>\n",
              "      <td>0.357759</td>\n",
              "      <td>0.193966</td>\n",
              "      <td>0.000000</td>\n",
              "      <td>0.293103</td>\n",
              "      <td>0.202586</td>\n",
              "      <td>0.004310</td>\n",
              "      <td>0.073276</td>\n",
              "      <td>0.000000</td>\n",
              "      <td>0.094828</td>\n",
              "      <td>0.077586</td>\n",
              "      <td>0.112069</td>\n",
              "      <td>0.172414</td>\n",
              "      <td>0.237069</td>\n",
              "      <td>0.094828</td>\n",
              "      <td>0.030172</td>\n",
              "    </tr>\n",
              "    <tr>\n",
              "      <th>2.0</th>\n",
              "      <td>0.0</td>\n",
              "      <td>0.379310</td>\n",
              "      <td>0.103448</td>\n",
              "      <td>0.000000</td>\n",
              "      <td>0.000000</td>\n",
              "      <td>0.241379</td>\n",
              "      <td>0.344828</td>\n",
              "      <td>0.103448</td>\n",
              "      <td>0.586207</td>\n",
              "      <td>0.000000</td>\n",
              "      <td>0.000000</td>\n",
              "      <td>0.034483</td>\n",
              "      <td>0.137931</td>\n",
              "      <td>0.000000</td>\n",
              "      <td>0.068966</td>\n",
              "      <td>0.034483</td>\n",
              "      <td>0.137931</td>\n",
              "      <td>0.344828</td>\n",
              "      <td>0.034483</td>\n",
              "      <td>0.034483</td>\n",
              "    </tr>\n",
              "    <tr>\n",
              "      <th>3.0</th>\n",
              "      <td>0.0</td>\n",
              "      <td>0.358974</td>\n",
              "      <td>0.282051</td>\n",
              "      <td>0.102564</td>\n",
              "      <td>0.128205</td>\n",
              "      <td>0.230769</td>\n",
              "      <td>0.051282</td>\n",
              "      <td>0.000000</td>\n",
              "      <td>0.410256</td>\n",
              "      <td>0.102564</td>\n",
              "      <td>0.000000</td>\n",
              "      <td>0.205128</td>\n",
              "      <td>0.000000</td>\n",
              "      <td>0.025641</td>\n",
              "      <td>0.025641</td>\n",
              "      <td>0.128205</td>\n",
              "      <td>0.384615</td>\n",
              "      <td>0.179487</td>\n",
              "      <td>0.128205</td>\n",
              "      <td>0.000000</td>\n",
              "    </tr>\n",
              "    <tr>\n",
              "      <th>4.0</th>\n",
              "      <td>0.0</td>\n",
              "      <td>0.115741</td>\n",
              "      <td>0.134259</td>\n",
              "      <td>0.027778</td>\n",
              "      <td>0.046296</td>\n",
              "      <td>0.481481</td>\n",
              "      <td>0.125000</td>\n",
              "      <td>0.009259</td>\n",
              "      <td>0.555556</td>\n",
              "      <td>0.087963</td>\n",
              "      <td>0.018519</td>\n",
              "      <td>0.018519</td>\n",
              "      <td>0.004630</td>\n",
              "      <td>0.074074</td>\n",
              "      <td>0.106481</td>\n",
              "      <td>0.268519</td>\n",
              "      <td>0.055556</td>\n",
              "      <td>0.175926</td>\n",
              "      <td>0.032407</td>\n",
              "      <td>0.046296</td>\n",
              "    </tr>\n",
              "    <tr>\n",
              "      <th>5.0</th>\n",
              "      <td>0.0</td>\n",
              "      <td>0.204545</td>\n",
              "      <td>0.181818</td>\n",
              "      <td>0.136364</td>\n",
              "      <td>0.204545</td>\n",
              "      <td>0.340909</td>\n",
              "      <td>0.272727</td>\n",
              "      <td>0.000000</td>\n",
              "      <td>0.568182</td>\n",
              "      <td>0.159091</td>\n",
              "      <td>0.000000</td>\n",
              "      <td>0.022727</td>\n",
              "      <td>0.068182</td>\n",
              "      <td>0.113636</td>\n",
              "      <td>0.022727</td>\n",
              "      <td>0.250000</td>\n",
              "      <td>0.045455</td>\n",
              "      <td>0.204545</td>\n",
              "      <td>0.068182</td>\n",
              "      <td>0.045455</td>\n",
              "    </tr>\n",
              "  </tbody>\n",
              "</table>\n",
              "</div>\n",
              "    <div class=\"colab-df-buttons\">\n",
              "\n",
              "  <div class=\"colab-df-container\">\n",
              "    <button class=\"colab-df-convert\" onclick=\"convertToInteractive('df-d9a008af-3b35-4d98-8fc3-7cdd862a59ac')\"\n",
              "            title=\"Convert this dataframe to an interactive table.\"\n",
              "            style=\"display:none;\">\n",
              "\n",
              "  <svg xmlns=\"http://www.w3.org/2000/svg\" height=\"24px\" viewBox=\"0 -960 960 960\">\n",
              "    <path d=\"M120-120v-720h720v720H120Zm60-500h600v-160H180v160Zm220 220h160v-160H400v160Zm0 220h160v-160H400v160ZM180-400h160v-160H180v160Zm440 0h160v-160H620v160ZM180-180h160v-160H180v160Zm440 0h160v-160H620v160Z\"/>\n",
              "  </svg>\n",
              "    </button>\n",
              "\n",
              "  <style>\n",
              "    .colab-df-container {\n",
              "      display:flex;\n",
              "      gap: 12px;\n",
              "    }\n",
              "\n",
              "    .colab-df-convert {\n",
              "      background-color: #E8F0FE;\n",
              "      border: none;\n",
              "      border-radius: 50%;\n",
              "      cursor: pointer;\n",
              "      display: none;\n",
              "      fill: #1967D2;\n",
              "      height: 32px;\n",
              "      padding: 0 0 0 0;\n",
              "      width: 32px;\n",
              "    }\n",
              "\n",
              "    .colab-df-convert:hover {\n",
              "      background-color: #E2EBFA;\n",
              "      box-shadow: 0px 1px 2px rgba(60, 64, 67, 0.3), 0px 1px 3px 1px rgba(60, 64, 67, 0.15);\n",
              "      fill: #174EA6;\n",
              "    }\n",
              "\n",
              "    .colab-df-buttons div {\n",
              "      margin-bottom: 4px;\n",
              "    }\n",
              "\n",
              "    [theme=dark] .colab-df-convert {\n",
              "      background-color: #3B4455;\n",
              "      fill: #D2E3FC;\n",
              "    }\n",
              "\n",
              "    [theme=dark] .colab-df-convert:hover {\n",
              "      background-color: #434B5C;\n",
              "      box-shadow: 0px 1px 3px 1px rgba(0, 0, 0, 0.15);\n",
              "      filter: drop-shadow(0px 1px 2px rgba(0, 0, 0, 0.3));\n",
              "      fill: #FFFFFF;\n",
              "    }\n",
              "  </style>\n",
              "\n",
              "    <script>\n",
              "      const buttonEl =\n",
              "        document.querySelector('#df-d9a008af-3b35-4d98-8fc3-7cdd862a59ac button.colab-df-convert');\n",
              "      buttonEl.style.display =\n",
              "        google.colab.kernel.accessAllowed ? 'block' : 'none';\n",
              "\n",
              "      async function convertToInteractive(key) {\n",
              "        const element = document.querySelector('#df-d9a008af-3b35-4d98-8fc3-7cdd862a59ac');\n",
              "        const dataTable =\n",
              "          await google.colab.kernel.invokeFunction('convertToInteractive',\n",
              "                                                    [key], {});\n",
              "        if (!dataTable) return;\n",
              "\n",
              "        const docLinkHtml = 'Like what you see? Visit the ' +\n",
              "          '<a target=\"_blank\" href=https://colab.research.google.com/notebooks/data_table.ipynb>data table notebook</a>'\n",
              "          + ' to learn more about interactive tables.';\n",
              "        element.innerHTML = '';\n",
              "        dataTable['output_type'] = 'display_data';\n",
              "        await google.colab.output.renderOutput(dataTable, element);\n",
              "        const docLink = document.createElement('div');\n",
              "        docLink.innerHTML = docLinkHtml;\n",
              "        element.appendChild(docLink);\n",
              "      }\n",
              "    </script>\n",
              "  </div>\n",
              "\n",
              "\n",
              "    <div id=\"df-bb03470a-eee8-4a50-95a7-c649ff9e52f4\">\n",
              "      <button class=\"colab-df-quickchart\" onclick=\"quickchart('df-bb03470a-eee8-4a50-95a7-c649ff9e52f4')\"\n",
              "                title=\"Suggest charts\"\n",
              "                style=\"display:none;\">\n",
              "\n",
              "<svg xmlns=\"http://www.w3.org/2000/svg\" height=\"24px\"viewBox=\"0 0 24 24\"\n",
              "     width=\"24px\">\n",
              "    <g>\n",
              "        <path d=\"M19 3H5c-1.1 0-2 .9-2 2v14c0 1.1.9 2 2 2h14c1.1 0 2-.9 2-2V5c0-1.1-.9-2-2-2zM9 17H7v-7h2v7zm4 0h-2V7h2v10zm4 0h-2v-4h2v4z\"/>\n",
              "    </g>\n",
              "</svg>\n",
              "      </button>\n",
              "\n",
              "<style>\n",
              "  .colab-df-quickchart {\n",
              "      --bg-color: #E8F0FE;\n",
              "      --fill-color: #1967D2;\n",
              "      --hover-bg-color: #E2EBFA;\n",
              "      --hover-fill-color: #174EA6;\n",
              "      --disabled-fill-color: #AAA;\n",
              "      --disabled-bg-color: #DDD;\n",
              "  }\n",
              "\n",
              "  [theme=dark] .colab-df-quickchart {\n",
              "      --bg-color: #3B4455;\n",
              "      --fill-color: #D2E3FC;\n",
              "      --hover-bg-color: #434B5C;\n",
              "      --hover-fill-color: #FFFFFF;\n",
              "      --disabled-bg-color: #3B4455;\n",
              "      --disabled-fill-color: #666;\n",
              "  }\n",
              "\n",
              "  .colab-df-quickchart {\n",
              "    background-color: var(--bg-color);\n",
              "    border: none;\n",
              "    border-radius: 50%;\n",
              "    cursor: pointer;\n",
              "    display: none;\n",
              "    fill: var(--fill-color);\n",
              "    height: 32px;\n",
              "    padding: 0;\n",
              "    width: 32px;\n",
              "  }\n",
              "\n",
              "  .colab-df-quickchart:hover {\n",
              "    background-color: var(--hover-bg-color);\n",
              "    box-shadow: 0 1px 2px rgba(60, 64, 67, 0.3), 0 1px 3px 1px rgba(60, 64, 67, 0.15);\n",
              "    fill: var(--button-hover-fill-color);\n",
              "  }\n",
              "\n",
              "  .colab-df-quickchart-complete:disabled,\n",
              "  .colab-df-quickchart-complete:disabled:hover {\n",
              "    background-color: var(--disabled-bg-color);\n",
              "    fill: var(--disabled-fill-color);\n",
              "    box-shadow: none;\n",
              "  }\n",
              "\n",
              "  .colab-df-spinner {\n",
              "    border: 2px solid var(--fill-color);\n",
              "    border-color: transparent;\n",
              "    border-bottom-color: var(--fill-color);\n",
              "    animation:\n",
              "      spin 1s steps(1) infinite;\n",
              "  }\n",
              "\n",
              "  @keyframes spin {\n",
              "    0% {\n",
              "      border-color: transparent;\n",
              "      border-bottom-color: var(--fill-color);\n",
              "      border-left-color: var(--fill-color);\n",
              "    }\n",
              "    20% {\n",
              "      border-color: transparent;\n",
              "      border-left-color: var(--fill-color);\n",
              "      border-top-color: var(--fill-color);\n",
              "    }\n",
              "    30% {\n",
              "      border-color: transparent;\n",
              "      border-left-color: var(--fill-color);\n",
              "      border-top-color: var(--fill-color);\n",
              "      border-right-color: var(--fill-color);\n",
              "    }\n",
              "    40% {\n",
              "      border-color: transparent;\n",
              "      border-right-color: var(--fill-color);\n",
              "      border-top-color: var(--fill-color);\n",
              "    }\n",
              "    60% {\n",
              "      border-color: transparent;\n",
              "      border-right-color: var(--fill-color);\n",
              "    }\n",
              "    80% {\n",
              "      border-color: transparent;\n",
              "      border-right-color: var(--fill-color);\n",
              "      border-bottom-color: var(--fill-color);\n",
              "    }\n",
              "    90% {\n",
              "      border-color: transparent;\n",
              "      border-bottom-color: var(--fill-color);\n",
              "    }\n",
              "  }\n",
              "</style>\n",
              "\n",
              "      <script>\n",
              "        async function quickchart(key) {\n",
              "          const quickchartButtonEl =\n",
              "            document.querySelector('#' + key + ' button');\n",
              "          quickchartButtonEl.disabled = true;  // To prevent multiple clicks.\n",
              "          quickchartButtonEl.classList.add('colab-df-spinner');\n",
              "          try {\n",
              "            const charts = await google.colab.kernel.invokeFunction(\n",
              "                'suggestCharts', [key], {});\n",
              "          } catch (error) {\n",
              "            console.error('Error during call to suggestCharts:', error);\n",
              "          }\n",
              "          quickchartButtonEl.classList.remove('colab-df-spinner');\n",
              "          quickchartButtonEl.classList.add('colab-df-quickchart-complete');\n",
              "        }\n",
              "        (() => {\n",
              "          let quickchartButtonEl =\n",
              "            document.querySelector('#df-bb03470a-eee8-4a50-95a7-c649ff9e52f4 button');\n",
              "          quickchartButtonEl.style.display =\n",
              "            google.colab.kernel.accessAllowed ? 'block' : 'none';\n",
              "        })();\n",
              "      </script>\n",
              "    </div>\n",
              "\n",
              "    </div>\n",
              "  </div>\n"
            ],
            "application/vnd.google.colaboratory.intrinsic+json": {
              "type": "dataframe",
              "variable_name": "user_profiles",
              "summary": "{\n  \"name\": \"user_profiles\",\n  \"rows\": 610,\n  \"fields\": [\n    {\n      \"column\": \"userId\",\n      \"properties\": {\n        \"dtype\": \"number\",\n        \"std\": 176.23611056383044,\n        \"min\": 1.0,\n        \"max\": 610.0,\n        \"num_unique_values\": 610,\n        \"samples\": [\n          82.0,\n          219.0,\n          56.0\n        ],\n        \"semantic_type\": \"\",\n        \"description\": \"\"\n      }\n    },\n    {\n      \"column\": \"(no genres listed)\",\n      \"properties\": {\n        \"dtype\": \"number\",\n        \"std\": 0.0022786288818722913,\n        \"min\": 0.0,\n        \"max\": 0.037037037037037035,\n        \"num_unique_values\": 27,\n        \"samples\": [\n          0.007462686567164179,\n          0.037037037037037035,\n          0.0072992700729927005\n        ],\n        \"semantic_type\": \"\",\n        \"description\": \"\"\n      }\n    },\n    {\n      \"column\": \"Action\",\n      \"properties\": {\n        \"dtype\": \"number\",\n        \"std\": 0.1359324408264148,\n        \"min\": 0.023952095808383235,\n        \"max\": 0.819672131147541,\n        \"num_unique_values\": 466,\n        \"samples\": [\n          0.3177570093457944,\n          0.5555555555555556,\n          0.5930232558139535\n        ],\n        \"semantic_type\": \"\",\n        \"description\": \"\"\n      }\n    },\n    {\n      \"column\": \"Adventure\",\n      \"properties\": {\n        \"dtype\": \"number\",\n        \"std\": 0.11709462809213626,\n        \"min\": 0.020833333333333332,\n        \"max\": 0.7878787878787878,\n        \"num_unique_values\": 449,\n        \"samples\": [\n          0.25675675675675674,\n          0.3533834586466165,\n          0.18155619596541786\n        ],\n        \"semantic_type\": \"\",\n        \"description\": \"\"\n      }\n    },\n    {\n      \"column\": \"Animation\",\n      \"properties\": {\n        \"dtype\": \"number\",\n        \"std\": 0.06590074010878963,\n        \"min\": 0.0,\n        \"max\": 0.5972222222222222,\n        \"num_unique_values\": 375,\n        \"samples\": [\n          0.022727272727272728,\n          0.07766990291262135,\n          0.06827880512091039\n        ],\n        \"semantic_type\": \"\",\n        \"description\": \"\"\n      }\n    },\n    {\n      \"column\": \"Children\",\n      \"properties\": {\n        \"dtype\": \"number\",\n        \"std\": 0.07345149006731638,\n        \"min\": 0.0,\n        \"max\": 0.5277777777777778,\n        \"num_unique_values\": 397,\n        \"samples\": [\n          0.07730263157894737,\n          0.03626943005181347,\n          0.040740740740740744\n        ],\n        \"semantic_type\": \"\",\n        \"description\": \"\"\n      }\n    },\n    {\n      \"column\": \"Comedy\",\n      \"properties\": {\n        \"dtype\": \"number\",\n        \"std\": 0.13170201859074634,\n        \"min\": 0.0,\n        \"max\": 0.9227799227799228,\n        \"num_unique_values\": 483,\n        \"samples\": [\n          0.2748091603053435,\n          0.4954128440366973,\n          0.125\n        ],\n        \"semantic_type\": \"\",\n        \"description\": \"\"\n      }\n    },\n    {\n      \"column\": \"Crime\",\n      \"properties\": {\n        \"dtype\": \"number\",\n        \"std\": 0.07799035662972366,\n        \"min\": 0.0,\n        \"max\": 0.5,\n        \"num_unique_values\": 429,\n        \"samples\": [\n          0.15058324496288442,\n          0.11864406779661017,\n          0.058394160583941604\n        ],\n        \"semantic_type\": \"\",\n        \"description\": \"\"\n      }\n    },\n    {\n      \"column\": \"Documentary\",\n      \"properties\": {\n        \"dtype\": \"number\",\n        \"std\": 0.0190346527907914,\n        \"min\": 0.0,\n        \"max\": 0.1702127659574468,\n        \"num_unique_values\": 201,\n        \"samples\": [\n          0.02857142857142857,\n          0.009216589861751152,\n          0.09375\n        ],\n        \"semantic_type\": \"\",\n        \"description\": \"\"\n      }\n    },\n    {\n      \"column\": \"Drama\",\n      \"properties\": {\n        \"dtype\": \"number\",\n        \"std\": 0.12766778749024046,\n        \"min\": 0.09090909090909091,\n        \"max\": 0.8926553672316384,\n        \"num_unique_values\": 445,\n        \"samples\": [\n          0.47706422018348627,\n          0.4043010752688172,\n          0.4090909090909091\n        ],\n        \"semantic_type\": \"\",\n        \"description\": \"\"\n      }\n    },\n    {\n      \"column\": \"Fantasy\",\n      \"properties\": {\n        \"dtype\": \"number\",\n        \"std\": 0.06997975562054251,\n        \"min\": 0.0,\n        \"max\": 0.6363636363636364,\n        \"num_unique_values\": 409,\n        \"samples\": [\n          0.10204081632653061,\n          0.06382978723404255,\n          0.23529411764705882\n        ],\n        \"semantic_type\": \"\",\n        \"description\": \"\"\n      }\n    },\n    {\n      \"column\": \"Film-Noir\",\n      \"properties\": {\n        \"dtype\": \"number\",\n        \"std\": 0.013108785852415088,\n        \"min\": 0.0,\n        \"max\": 0.09090909090909091,\n        \"num_unique_values\": 203,\n        \"samples\": [\n          0.010526315789473684,\n          0.012802275960170697,\n          0.07766990291262135\n        ],\n        \"semantic_type\": \"\",\n        \"description\": \"\"\n      }\n    },\n    {\n      \"column\": \"Horror\",\n      \"properties\": {\n        \"dtype\": \"number\",\n        \"std\": 0.06087623982260151,\n        \"min\": 0.0,\n        \"max\": 0.8035714285714286,\n        \"num_unique_values\": 373,\n        \"samples\": [\n          0.017241379310344827,\n          0.038461538461538464,\n          0.05102040816326531\n        ],\n        \"semantic_type\": \"\",\n        \"description\": \"\"\n      }\n    },\n    {\n      \"column\": \"IMAX\",\n      \"properties\": {\n        \"dtype\": \"number\",\n        \"std\": 0.05985943205323407,\n        \"min\": 0.0,\n        \"max\": 0.41935483870967744,\n        \"num_unique_values\": 340,\n        \"samples\": [\n          0.04363636363636364,\n          0.06,\n          0.03684210526315789\n        ],\n        \"semantic_type\": \"\",\n        \"description\": \"\"\n      }\n    },\n    {\n      \"column\": \"Musical\",\n      \"properties\": {\n        \"dtype\": \"number\",\n        \"std\": 0.03936157993761597,\n        \"min\": 0.0,\n        \"max\": 0.29213483146067415,\n        \"num_unique_values\": 321,\n        \"samples\": [\n          0.04119850187265917,\n          0.0449438202247191,\n          0.026217228464419477\n        ],\n        \"semantic_type\": \"\",\n        \"description\": \"\"\n      }\n    },\n    {\n      \"column\": \"Mystery\",\n      \"properties\": {\n        \"dtype\": \"number\",\n        \"std\": 0.04556261949697582,\n        \"min\": 0.0,\n        \"max\": 0.3333333333333333,\n        \"num_unique_values\": 366,\n        \"samples\": [\n          0.04878048780487805,\n          0.08139534883720931,\n          0.1326530612244898\n        ],\n        \"semantic_type\": \"\",\n        \"description\": \"\"\n      }\n    },\n    {\n      \"column\": \"Romance\",\n      \"properties\": {\n        \"dtype\": \"number\",\n        \"std\": 0.0922200510845151,\n        \"min\": 0.0,\n        \"max\": 0.65625,\n        \"num_unique_values\": 432,\n        \"samples\": [\n          0.2074074074074074,\n          0.023952095808383235,\n          0.11594202898550725\n        ],\n        \"semantic_type\": \"\",\n        \"description\": \"\"\n      }\n    },\n    {\n      \"column\": \"Sci-Fi\",\n      \"properties\": {\n        \"dtype\": \"number\",\n        \"std\": 0.09894457289406637,\n        \"min\": 0.0,\n        \"max\": 0.8793103448275862,\n        \"num_unique_values\": 421,\n        \"samples\": [\n          0.15384615384615385,\n          0.3069306930693069,\n          0.3181818181818182\n        ],\n        \"semantic_type\": \"\",\n        \"description\": \"\"\n      }\n    },\n    {\n      \"column\": \"Thriller\",\n      \"properties\": {\n        \"dtype\": \"number\",\n        \"std\": 0.1076903091412999,\n        \"min\": 0.02702702702702703,\n        \"max\": 0.8888888888888888,\n        \"num_unique_values\": 460,\n        \"samples\": [\n          0.34767025089605735,\n          0.22,\n          0.07407407407407407\n        ],\n        \"semantic_type\": \"\",\n        \"description\": \"\"\n      }\n    },\n    {\n      \"column\": \"War\",\n      \"properties\": {\n        \"dtype\": \"number\",\n        \"std\": 0.038784365668833504,\n        \"min\": 0.0,\n        \"max\": 0.3333333333333333,\n        \"num_unique_values\": 346,\n        \"samples\": [\n          0.06306306306306306,\n          0.022727272727272728,\n          0.09420289855072464\n        ],\n        \"semantic_type\": \"\",\n        \"description\": \"\"\n      }\n    },\n    {\n      \"column\": \"Western\",\n      \"properties\": {\n        \"dtype\": \"number\",\n        \"std\": 0.023756345791733392,\n        \"min\": 0.0,\n        \"max\": 0.14285714285714285,\n        \"num_unique_values\": 287,\n        \"samples\": [\n          0.03125,\n          0.004,\n          0.06818181818181818\n        ],\n        \"semantic_type\": \"\",\n        \"description\": \"\"\n      }\n    }\n  ]\n}"
            }
          },
          "metadata": {},
          "execution_count": 24
        }
      ]
    },
    {
      "cell_type": "markdown",
      "source": [
        "dari output didapat:\n",
        "\n",
        "- Output user_profiles adalah representasi minat setiap pengguna terhadap genre film dalam bentuk vektor.\n",
        "\n",
        "- Nilai pada tabel adalah rata-rata kehadiran genre dalam film yang ditonton user.\n",
        "\n",
        "- Semakin tinggi nilainya (mendekati 1), berarti user lebih sering menonton film dengan genre tersebut."
      ],
      "metadata": {
        "id": "TKXoPfSgHSha"
      }
    },
    {
      "cell_type": "code",
      "source": [
        "# Ambil data user tertentu\n",
        "target_user_id = 1\n",
        "user_profile = user_profiles.loc[target_user_id]\n",
        "\n",
        "# Drop film yang sudah ditonton user\n",
        "user_watched = movie_ratings_final[movie_ratings_final['userId'] == target_user_id]['movieId']\n",
        "unwatched_movies = movie_ratings_final[~movie_ratings_final['movieId'].isin(user_watched)].drop_duplicates('movieId')\n",
        "\n",
        "# Hitung kemiripan skor antara preferensi user dan genre film\n",
        "unwatched_movies['similarity'] = unwatched_movies[mlb.classes_].dot(user_profile)\n",
        "\n",
        "# Ambil 10 film dengan skor kemiripan tertinggi\n",
        "recommended_movies = unwatched_movies.sort_values('similarity', ascending=False)[['title', 'similarity']].head(10)\n",
        "print(\"Rekomendasi untuk User ID 1:\")\n",
        "print(recommended_movies)"
      ],
      "metadata": {
        "colab": {
          "base_uri": "https://localhost:8080/"
        },
        "id": "eSd9RRDEfrTp",
        "outputId": "98704e17-7d4c-48c9-a12c-64f0df445ea1"
      },
      "execution_count": 25,
      "outputs": [
        {
          "output_type": "stream",
          "name": "stdout",
          "text": [
            "Rekomendasi untuk User ID 1:\n",
            "                                                   title  similarity\n",
            "50433                       Milagro Beanfield War (1988)    1.754310\n",
            "14040                                      Storks (2016)    1.724138\n",
            "42907                                     Frantic (1988)    1.706897\n",
            "798                             Super Mario Bros. (1993)    1.668103\n",
            "94435  Last Life in the Universe (Ruang rak noi nid m...    1.655172\n",
            "4675                           Hunting Party, The (2007)    1.642241\n",
            "94620  I'm a Cyborg, But That's OK (Saibogujiman kwen...    1.642241\n",
            "16936                              Loving Vincent (2017)    1.625000\n",
            "23517           Battle for the Planet of the Apes (1973)    1.625000\n",
            "84091                    Anacleto: Agente secreto (2015)    1.625000\n"
          ]
        }
      ]
    },
    {
      "cell_type": "markdown",
      "source": [
        "dari output didapat:\n",
        "\n",
        "- Ini adalah implementasi content-based filtering menggunakan genre sebagai fitur konten film.\n",
        "\n",
        "- Rekomendasi diberikan berdasarkan kemiripan antara film dan preferensi user, bukan karena film itu populer atau disukai user lain (bukan collaborative)."
      ],
      "metadata": {
        "id": "mt2k-Otr-Nlw"
      }
    },
    {
      "cell_type": "markdown",
      "source": [
        "### Collaborative Filtering (Matrix Factorization – SVD)"
      ],
      "metadata": {
        "id": "6S4VO9QfJEV0"
      }
    },
    {
      "cell_type": "markdown",
      "source": [
        "Cara Kerja:\n",
        "\n",
        "“Jika user A dan user B memiliki rating mirip untuk banyak film, maka film yang disukai B dan belum ditonton A bisa direkomendasikan ke A.”"
      ],
      "metadata": {
        "id": "S_am1VFgucXX"
      }
    },
    {
      "cell_type": "markdown",
      "source": [
        "✅ Kelebihan:\n",
        "- Personalized: Rekomendasi lebih akurat karena memperhitungkan pola interaksi antar pengguna dan item.\n",
        "\n",
        "- Tidak membutuhkan metadata film: Cukup menggunakan data userId, movieId, dan rating saja.\n",
        "\n",
        "- Menemukan hubungan tersembunyi: Dapat mengenali preferensi user meskipun genre atau konten film tidak diketahui secara eksplisit.\n",
        "\n",
        "- Skalabilitas tinggi dengan matrix factorization (SVD): Efisien dalam menangani data besar dengan teknik pemfaktoran.\n",
        "\n",
        "❌ Kekurangan:\n",
        "- Cold Start Problem:\n",
        "\n",
        "- User baru: Tidak ada cukup data riwayat untuk merekomendasikan film.\n",
        "\n",
        "- Item baru: Film yang belum pernah diberi rating tidak bisa direkomendasikan.\n",
        "\n",
        "- Sparsity (Kerapatan rendah): Matrix user-item bisa sangat besar tapi banyak yang kosong → mempengaruhi akurasi model.\n",
        "\n",
        "- Tidak menjelaskan alasan rekomendasi: Sulit dimengerti mengapa film tersebut direkomendasikan."
      ],
      "metadata": {
        "id": "dtt76t1utQp8"
      }
    },
    {
      "cell_type": "code",
      "source": [
        "pip install scikit-surprise"
      ],
      "metadata": {
        "colab": {
          "base_uri": "https://localhost:8080/"
        },
        "id": "HlU_L89vAWlL",
        "outputId": "7ecfafd2-891d-44dc-9195-e2af246f8ace"
      },
      "execution_count": 26,
      "outputs": [
        {
          "output_type": "stream",
          "name": "stdout",
          "text": [
            "Requirement already satisfied: scikit-surprise in /usr/local/lib/python3.11/dist-packages (1.1.4)\n",
            "Requirement already satisfied: joblib>=1.2.0 in /usr/local/lib/python3.11/dist-packages (from scikit-surprise) (1.5.1)\n",
            "Requirement already satisfied: numpy>=1.19.5 in /usr/local/lib/python3.11/dist-packages (from scikit-surprise) (1.24.4)\n",
            "Requirement already satisfied: scipy>=1.6.0 in /usr/local/lib/python3.11/dist-packages (from scikit-surprise) (1.15.3)\n"
          ]
        }
      ]
    },
    {
      "cell_type": "code",
      "source": [
        "!pip install numpy==1.24.4"
      ],
      "metadata": {
        "colab": {
          "base_uri": "https://localhost:8080/"
        },
        "id": "2Ho4lthBBcIO",
        "outputId": "f3fecbb4-bfb7-4aeb-99c0-85f359074478"
      },
      "execution_count": 27,
      "outputs": [
        {
          "output_type": "stream",
          "name": "stdout",
          "text": [
            "Requirement already satisfied: numpy==1.24.4 in /usr/local/lib/python3.11/dist-packages (1.24.4)\n"
          ]
        }
      ]
    },
    {
      "cell_type": "markdown",
      "source": [
        "\n",
        "Tujuan:\n",
        "\n",
        "* *Menjamin kompatibilitas* antara NumPy dan library lain dalam proyek (misalnya, scikit-learn, pandas, atau surprise untuk collaborative filtering).\n",
        "* Beberapa library mungkin *tidak kompatibel dengan versi NumPy terbaru, sehingga versi 1.24.4 dipilih untuk **menghindari error atau bug* saat menjalankan model rekomendasi atau matrix factorization."
      ],
      "metadata": {
        "id": "-QlVBi4Pmh0w"
      }
    },
    {
      "cell_type": "code",
      "source": [
        "from surprise import Dataset, Reader, SVD\n",
        "from surprise.model_selection import cross_validate\n",
        "\n",
        "# Siapkan data untuk library surprise\n",
        "reader = Reader(rating_scale=(0.5, 5.0))\n",
        "data = Dataset.load_from_df(ratings[['userId', 'movieId', 'rating']], reader)\n",
        "\n",
        "# Latih model SVD\n",
        "model = SVD()\n",
        "cross_validate(model, data, measures=['RMSE', 'MAE'], cv=5, verbose=True)"
      ],
      "metadata": {
        "colab": {
          "base_uri": "https://localhost:8080/"
        },
        "id": "lTZpTl80-N9M",
        "outputId": "61d61e15-cfd2-4176-d5db-2e195ce824c4"
      },
      "execution_count": 28,
      "outputs": [
        {
          "output_type": "stream",
          "name": "stdout",
          "text": [
            "Evaluating RMSE, MAE of algorithm SVD on 5 split(s).\n",
            "\n",
            "                  Fold 1  Fold 2  Fold 3  Fold 4  Fold 5  Mean    Std     \n",
            "RMSE (testset)    0.8777  0.8716  0.8681  0.8775  0.8771  0.8744  0.0039  \n",
            "MAE (testset)     0.6737  0.6693  0.6698  0.6739  0.6745  0.6723  0.0022  \n",
            "Fit time          2.86    3.93    4.35    4.75    4.85    4.15    0.72    \n",
            "Test time         0.40    0.46    0.27    0.42    0.13    0.34    0.12    \n"
          ]
        },
        {
          "output_type": "execute_result",
          "data": {
            "text/plain": [
              "{'test_rmse': array([0.87772628, 0.87163859, 0.86813381, 0.87753137, 0.87712931]),\n",
              " 'test_mae': array([0.67372072, 0.66930766, 0.66980147, 0.67391283, 0.67454969]),\n",
              " 'fit_time': (2.8599157333374023,\n",
              "  3.9337480068206787,\n",
              "  4.354689836502075,\n",
              "  4.745089769363403,\n",
              "  4.8476338386535645),\n",
              " 'test_time': (0.4001755714416504,\n",
              "  0.46256399154663086,\n",
              "  0.2746264934539795,\n",
              "  0.4212367534637451,\n",
              "  0.13240790367126465)}"
            ]
          },
          "metadata": {},
          "execution_count": 28
        }
      ]
    },
    {
      "cell_type": "markdown",
      "source": [
        "dari output didapat:\n",
        "\n",
        "- Model SVD cukup stabil, dengan RMSE sekitar 0.87 dan MAE sekitar 0.67.\n",
        "\n",
        "- Variasi hasil antar fold rendah (standar deviasi kecil), artinya model konsisten di berbagai subset data.\n",
        "\n",
        "- Waktu pelatihan dan prediksi relatif cepat (beberapa detik dan kurang dari satu detik).\n",
        "\n",
        "- Model sudah cukup baik untuk tugas prediksi rating film.\n"
      ],
      "metadata": {
        "id": "hd0J2Wq3MUHg"
      }
    },
    {
      "cell_type": "code",
      "source": [
        "model.fit(data.build_full_trainset())\n",
        "pred = model.predict(1, 50)\n",
        "print(pred.est)  # Ini prediksi rating"
      ],
      "metadata": {
        "colab": {
          "base_uri": "https://localhost:8080/"
        },
        "id": "PGzkRjZCCT9n",
        "outputId": "f5ae562e-1a78-42dc-f41f-3cbcbcd4ae48"
      },
      "execution_count": 29,
      "outputs": [
        {
          "output_type": "stream",
          "name": "stdout",
          "text": [
            "5.0\n"
          ]
        }
      ]
    },
    {
      "cell_type": "markdown",
      "source": [
        "model memprediksi user 1 akan memberi rating 4.73 untuk movie 50 (dalam skala rating 0.5-5.0). Jadi, prediksi rating ini cukup tinggi dan menunjukkan bahwa user kemungkinan besar suka dengan film tersebut."
      ],
      "metadata": {
        "id": "pXc_roW-NIgu"
      }
    },
    {
      "cell_type": "markdown",
      "source": [
        "# Evaluation"
      ],
      "metadata": {
        "id": "Z7DhPlCsDndp"
      }
    },
    {
      "cell_type": "markdown",
      "source": [
        "### Content-Based Filtering dengan pendekatan User Profile Genre"
      ],
      "metadata": {
        "id": "b8Xqjf6LynVE"
      }
    },
    {
      "cell_type": "code",
      "source": [
        "# Tampilkan rekomendasi untuk user tertentu\n",
        "print(\"Rekomendasi untuk User ID 1:\")\n",
        "print(recommended_movies)\n",
        "\n",
        "# Cek genre yang sering muncul pada film yang ditonton user\n",
        "user_movies = movie_ratings_final[movie_ratings_final['userId'] == target_user_id]\n",
        "top_genres = user_movies[mlb.classes_].mean().sort_values(ascending=False).head(5)\n",
        "print(\"\\nTop genre dari film yang ditonton user:\")\n",
        "print(top_genres)\n",
        "\n",
        "# Bandingkan dengan genre film yang direkomendasikan\n",
        "rec_genres = unwatched_movies[unwatched_movies['movieId'].isin(recommended_movies.index)][mlb.classes_].mean().sort_values(ascending=False).head(5)\n",
        "print(\"\\nGenre dominan dari film yang direkomendasikan:\")\n",
        "print(rec_genres)"
      ],
      "metadata": {
        "colab": {
          "base_uri": "https://localhost:8080/"
        },
        "id": "nyR6NNw6Dofh",
        "outputId": "b6c67fe8-0bd4-4623-d4d4-987fe84f439b"
      },
      "execution_count": 30,
      "outputs": [
        {
          "output_type": "stream",
          "name": "stdout",
          "text": [
            "Rekomendasi untuk User ID 1:\n",
            "                                                   title  similarity\n",
            "50433                       Milagro Beanfield War (1988)    1.754310\n",
            "14040                                      Storks (2016)    1.724138\n",
            "42907                                     Frantic (1988)    1.706897\n",
            "798                             Super Mario Bros. (1993)    1.668103\n",
            "94435  Last Life in the Universe (Ruang rak noi nid m...    1.655172\n",
            "4675                           Hunting Party, The (2007)    1.642241\n",
            "94620  I'm a Cyborg, But That's OK (Saibogujiman kwen...    1.642241\n",
            "16936                              Loving Vincent (2017)    1.625000\n",
            "23517           Battle for the Planet of the Apes (1973)    1.625000\n",
            "84091                    Anacleto: Agente secreto (2015)    1.625000\n",
            "\n",
            "Top genre dari film yang ditonton user:\n",
            "Action       0.387931\n",
            "Adventure    0.366379\n",
            "Comedy       0.357759\n",
            "Drama        0.293103\n",
            "Thriller     0.237069\n",
            "dtype: float64\n",
            "\n",
            "Genre dominan dari film yang direkomendasikan:\n",
            "Adventure    1.0\n",
            "Thriller     0.5\n",
            "Comedy       0.5\n",
            "Drama        0.5\n",
            "Action       0.5\n",
            "dtype: float64\n"
          ]
        }
      ]
    },
    {
      "cell_type": "markdown",
      "source": [
        "✅ Model rekomendasi menyesuaikan genre film rekomendasi dengan genre yang sering ditonton user 1.\n",
        "\n",
        "✅ Terlihat konsistensi: Top genre yang disukai user (Action, Adventure, Comedy, Drama, Thriller) juga muncul pada rekomendasi.\n",
        "\n",
        "✅ Adventure muncul dominan (1.0), artinya model sangat yakin film ini cocok dengan preferensi user."
      ],
      "metadata": {
        "id": "yxAnXQwUNiUu"
      }
    },
    {
      "cell_type": "markdown",
      "source": [
        "### Collaborative Filtering (Matrix Factorization – SVD)"
      ],
      "metadata": {
        "id": "oi_8DMpwyvel"
      }
    },
    {
      "cell_type": "code",
      "source": [
        "from surprise import Dataset, Reader, SVD\n",
        "from surprise.model_selection import cross_validate\n",
        "\n",
        "# Siapkan data untuk Surprise\n",
        "reader = Reader(rating_scale=(0.5, 5.0))\n",
        "data = Dataset.load_from_df(ratings[['userId', 'movieId', 'rating']], reader)\n",
        "\n",
        "# Buat model dan evaluasi dengan cross-validation\n",
        "model = SVD()\n",
        "evaluation = cross_validate(model, data, measures=['RMSE', 'MAE'], cv=5, verbose=True)\n",
        "\n",
        "# Tampilkan hasil evaluasi\n",
        "print(\"\\nHasil Evaluasi Collaborative Filtering:\")\n",
        "print(\"Rata-rata RMSE:\", round(evaluation['test_rmse'].mean(), 4))\n",
        "print(\"Rata-rata MAE :\", round(evaluation['test_mae'].mean(), 4))\n",
        "\n",
        "# Fit model dan prediksi rating untuk userId 1 dan movieId 50\n",
        "trainset = data.build_full_trainset()\n",
        "model.fit(trainset)\n",
        "\n",
        "prediction = model.predict(uid=1, iid=50)\n",
        "print(f\"\\nPrediksi rating userId=1 untuk movieId=50: {round(prediction.est, 2)}\")"
      ],
      "metadata": {
        "colab": {
          "base_uri": "https://localhost:8080/"
        },
        "id": "7zze820WD2YY",
        "outputId": "c00d7802-0596-40ca-8c7c-1562057db27a"
      },
      "execution_count": 31,
      "outputs": [
        {
          "output_type": "stream",
          "name": "stdout",
          "text": [
            "Evaluating RMSE, MAE of algorithm SVD on 5 split(s).\n",
            "\n",
            "                  Fold 1  Fold 2  Fold 3  Fold 4  Fold 5  Mean    Std     \n",
            "RMSE (testset)    0.8724  0.8758  0.8738  0.8702  0.8791  0.8742  0.0030  \n",
            "MAE (testset)     0.6707  0.6723  0.6727  0.6680  0.6763  0.6720  0.0027  \n",
            "Fit time          3.55    5.65    4.80    5.75    1.66    4.28    1.53    \n",
            "Test time         0.44    0.39    0.27    0.29    0.13    0.31    0.11    \n",
            "\n",
            "Hasil Evaluasi Collaborative Filtering:\n",
            "Rata-rata RMSE: 0.8742\n",
            "Rata-rata MAE : 0.672\n",
            "\n",
            "Prediksi rating userId=1 untuk movieId=50: 5.0\n"
          ]
        }
      ]
    },
    {
      "cell_type": "markdown",
      "source": [
        "✅ Model SVD sudah berjalan baik (dengan RMSE ~0.87).\n",
        "\n",
        "✅ Prediksi rating untuk film movieId=50 sangat tinggi (5.0), jadi ini kandidat rekomendasi yang kuat untuk user 1."
      ],
      "metadata": {
        "id": "nzLE-W9AOCiG"
      }
    },
    {
      "cell_type": "markdown",
      "source": [
        "###  Collaborative Filtering (Prediksi Rating → Top-N Rekomendasi)"
      ],
      "metadata": {
        "id": "o-DSIJsgOOW9"
      }
    },
    {
      "cell_type": "code",
      "source": [
        "# Daftar semua movieId\n",
        "all_movie_ids = ratings['movieId'].unique()\n",
        "\n",
        "# Daftar movieId yang sudah ditonton user\n",
        "watched_movie_ids = ratings[ratings['userId'] == 1]['movieId'].unique()\n",
        "\n",
        "# MovieId yang belum ditonton user\n",
        "unwatched_movie_ids = [mid for mid in all_movie_ids if mid not in watched_movie_ids]\n",
        "\n",
        "# Prediksi rating untuk semua movieId yang belum ditonton\n",
        "predictions = [model.predict(uid=1, iid=mid) for mid in unwatched_movie_ids]\n",
        "\n",
        "# Urutkan berdasarkan rating prediksi tertinggi\n",
        "predictions.sort(key=lambda x: x.est, reverse=True)\n",
        "\n",
        "# Ambil Top-10 rekomendasi\n",
        "top_10_recommendations = predictions[:10]\n",
        "\n",
        "# Tampilkan hasil\n",
        "print(\"Top-10 rekomendasi untuk User ID 1:\")\n",
        "for pred in top_10_recommendations:\n",
        "    movie_title = movies[movies['movieId'] == pred.iid]['title'].values[0]\n",
        "    print(f\"Movie: {movie_title}, Predicted Rating: {round(pred.est, 2)}\")"
      ],
      "metadata": {
        "colab": {
          "base_uri": "https://localhost:8080/"
        },
        "id": "lEVx2oCROQSq",
        "outputId": "36215a50-ff7d-4684-b18e-5b95f727d432"
      },
      "execution_count": 32,
      "outputs": [
        {
          "output_type": "stream",
          "name": "stdout",
          "text": [
            "Top-10 rekomendasi untuk User ID 1:\n",
            "Movie: Shawshank Redemption, The (1994), Predicted Rating: 5.0\n",
            "Movie: Dark Knight, The (2008), Predicted Rating: 5.0\n",
            "Movie: Philadelphia Story, The (1940), Predicted Rating: 5.0\n",
            "Movie: Rear Window (1954), Predicted Rating: 5.0\n",
            "Movie: North by Northwest (1959), Predicted Rating: 5.0\n",
            "Movie: 12 Angry Men (1957), Predicted Rating: 5.0\n",
            "Movie: Bridge on the River Kwai, The (1957), Predicted Rating: 5.0\n",
            "Movie: Seven Samurai (Shichinin no samurai) (1954), Predicted Rating: 5.0\n",
            "Movie: Life Is Beautiful (La Vita è bella) (1997), Predicted Rating: 5.0\n",
            "Movie: Outlaw Josey Wales, The (1976), Predicted Rating: 5.0\n"
          ]
        }
      ]
    },
    {
      "cell_type": "markdown",
      "source": [
        "✅ Top-10 film yang belum ditonton oleh User ID 1.\n",
        "\n",
        "✅ Prediksi ratingnya 5.0 untuk semua film (tinggi banget!).\n",
        "\n",
        "✅ Artinya, model sangat yakin bahwa User ID 1 akan sangat menyukai film-film ini."
      ],
      "metadata": {
        "id": "oMJqcMGAO2pD"
      }
    },
    {
      "cell_type": "markdown",
      "source": [
        "### Content-Based Filtering (Skor Kemiripan → Top-N Rekomendasi)\n"
      ],
      "metadata": {
        "id": "BFn4EV153LBK"
      }
    },
    {
      "cell_type": "code",
      "source": [
        "# Buat profil user dari genre\n",
        "user_profiles = movie_ratings_final.groupby('userId')[mlb.classes_].mean()\n",
        "user_profile = user_profiles.loc[user_id]\n",
        "\n",
        "# Ambil film yang belum ditonton user\n",
        "user_watched = movie_ratings_final[movie_ratings_final['userId'] == user_id]['movieId']\n",
        "unwatched_movies_cb = movie_ratings_final[~movie_ratings_final['movieId'].isin(user_watched)].drop_duplicates('movieId')\n",
        "\n",
        "# Hitung kemiripan (dot product antara profil user dan genre film)\n",
        "unwatched_movies_cb['similarity'] = unwatched_movies_cb[mlb.classes_].dot(user_profile)\n",
        "\n",
        "# Ambil Top-N film dengan skor kemiripan tertinggi\n",
        "top_n_cb = unwatched_movies_cb.sort_values('similarity', ascending=False).head(10)\n",
        "print(\"\\nTop-N Rekomendasi berdasarkan Skor Kemiripan Genre:\")\n",
        "print(top_n_cb[['movieId', 'title', 'similarity']])\n"
      ],
      "metadata": {
        "colab": {
          "base_uri": "https://localhost:8080/"
        },
        "id": "yU-gbRIi3j-Y",
        "outputId": "49c756a6-121f-4638-ee1c-63c3ed941b21"
      },
      "execution_count": 40,
      "outputs": [
        {
          "output_type": "stream",
          "name": "stdout",
          "text": [
            "\n",
            "Top-N Rekomendasi berdasarkan Skor Kemiripan Genre:\n",
            "        movieId                                              title  similarity\n",
            "50433    4523.0                       Milagro Beanfield War (1988)    1.754310\n",
            "14040  164200.0                                      Storks (2016)    1.724138\n",
            "42907    4506.0                                     Frantic (1988)    1.706897\n",
            "798       546.0                           Super Mario Bros. (1993)    1.668103\n",
            "94435   27722.0  Last Life in the Universe (Ruang rak noi nid m...    1.655172\n",
            "4675    55116.0                          Hunting Party, The (2007)    1.642241\n",
            "94620   53161.0  I'm a Cyborg, But That's OK (Saibogujiman kwen...    1.642241\n",
            "16936  179133.0                              Loving Vincent (2017)    1.625000\n",
            "23517    2531.0           Battle for the Planet of the Apes (1973)    1.625000\n",
            "84091  150993.0                    Anacleto: Agente secreto (2015)    1.625000\n"
          ]
        }
      ]
    },
    {
      "cell_type": "markdown",
      "source": [
        "✅ Output ini memberitahu kamu 10 film teratas yang paling mirip genre-nya dengan film favorit user.\n",
        "\n",
        "✅ Film dengan skor tertinggi kemungkinan besar memiliki genre yang sama atau sangat mirip dengan film referensi.\n",
        "\n",
        "✅ Ini berguna untuk merekomendasikan film serupa berdasarkan preferensi genre, tanpa melihat interaksi pengguna lain."
      ],
      "metadata": {
        "id": "bDP-4ikQ4EFa"
      }
    }
  ]
}